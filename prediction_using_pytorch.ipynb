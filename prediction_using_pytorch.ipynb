{
 "cells": [
  {
   "cell_type": "markdown",
   "metadata": {},
   "source": [
    "# Prediction using pytorch"
   ]
  },
  {
   "cell_type": "markdown",
   "metadata": {},
   "source": [
    "Lets us import pandas and matplotlib."
   ]
  },
  {
   "cell_type": "code",
   "execution_count": 1,
   "metadata": {},
   "outputs": [],
   "source": [
    "import pandas as pd\n",
    "import matplotlib.pyplot as plt"
   ]
  },
  {
   "cell_type": "markdown",
   "metadata": {},
   "source": [
    "Let us import pyrotch."
   ]
  },
  {
   "cell_type": "code",
   "execution_count": 2,
   "metadata": {},
   "outputs": [
    {
     "data": {
      "text/plain": [
       "<torch._C.Generator at 0x1c87dadfad0>"
      ]
     },
     "execution_count": 2,
     "metadata": {},
     "output_type": "execute_result"
    }
   ],
   "source": [
    "import torch\n",
    "from torch.utils.data import Dataset, DataLoader\n",
    "torch.manual_seed(1)"
   ]
  },
  {
   "cell_type": "markdown",
   "metadata": {},
   "source": [
    "Let us create a class which will create our input and output variables."
   ]
  },
  {
   "cell_type": "code",
   "execution_count": 3,
   "metadata": {},
   "outputs": [],
   "source": [
    "from sklearn.preprocessing import StandardScaler\n",
    "from sklearn.model_selection import train_test_split\n",
    "\n",
    "class Data(Dataset):\n",
    "    \n",
    "    # Constructor\n",
    "    def __init__(self,file):\n",
    "        df=pd.read_csv(file)\n",
    "\n",
    "        x=df.drop(['Price'],axis=1)\n",
    "        y=df[['Price']]\n",
    "        X_train, X_test, y_train, y_test=train_test_split(x,y,test_size=0.33, random_state=42)\n",
    "\n",
    "        x=X_train\n",
    "        y=y_train\n",
    "        x_new=x.iloc[:,:].values\n",
    "        y_new=y.iloc[:,:].values\n",
    "        \n",
    "        sc=StandardScaler()\n",
    "        X_train=sc.fit_transform(x_new)\n",
    "        Y_train=y_new\n",
    "        \n",
    "        self.X_train=torch.tensor(x_new,dtype=torch.float64)\n",
    "        self.Y_train=torch.tensor(y_new,dtype=torch.float64)\n",
    "        \n",
    "    # Getter\n",
    "    def __getitem__(self,index):    \n",
    "        return self.X_train[index],self.Y_train[index]\n",
    "    \n",
    "    # Get Length\n",
    "    def __len__(self):\n",
    "        return len(self.Y_train)\n",
    "    \n",
    "    def __testx__(self):\n",
    "        return X_test.iloc[:,:].values\n",
    "    def __testy__(self):\n",
    "        return y_test.iloc[:,:].values"
   ]
  },
  {
   "cell_type": "markdown",
   "metadata": {},
   "source": [
    "Let us load our dataset."
   ]
  },
  {
   "cell_type": "code",
   "execution_count": 4,
   "metadata": {},
   "outputs": [],
   "source": [
    "df=Data('Dataset/train_clean_data.csv')"
   ]
  },
  {
   "cell_type": "markdown",
   "metadata": {},
   "source": [
    "Let us create the Model and Total Loss Function (Cost)"
   ]
  },
  {
   "cell_type": "code",
   "execution_count": 5,
   "metadata": {},
   "outputs": [],
   "source": [
    "# Create a linear regression model class\n",
    "\n",
    "from torch import nn, optim\n",
    "\n",
    "class linear_regression(nn.Module):\n",
    "    \n",
    "    # Constructor\n",
    "    def __init__(self, input_size, output_size):\n",
    "        super(linear_regression, self).__init__()\n",
    "        self.linear = nn.Linear(input_size, output_size)\n",
    "        \n",
    "    # Prediction\n",
    "    def forward(self, x):\n",
    "        yhat = self.linear(x)\n",
    "        return yhat"
   ]
  },
  {
   "cell_type": "markdown",
   "metadata": {},
   "source": [
    " Build a cost function."
   ]
  },
  {
   "cell_type": "code",
   "execution_count": 6,
   "metadata": {},
   "outputs": [],
   "source": [
    "criterion = nn.MSELoss()"
   ]
  },
  {
   "cell_type": "markdown",
   "metadata": {},
   "source": [
    "Create optimizer."
   ]
  },
  {
   "cell_type": "code",
   "execution_count": 25,
   "metadata": {},
   "outputs": [],
   "source": [
    "model = linear_regression(28,1) #28 inputs an 1 output\n",
    "optimizer = optim.SGD(model.parameters(), lr = 0.00001)#Using Adamax"
   ]
  },
  {
   "cell_type": "code",
   "execution_count": 26,
   "metadata": {},
   "outputs": [
    {
     "data": {
      "text/plain": [
       "[Parameter containing:\n",
       " tensor([[-0.0207, -0.1817, -0.0901,  0.1025, -0.0459,  0.1882,  0.1515, -0.0088,\n",
       "          -0.1261,  0.1151,  0.0587, -0.1222,  0.1228,  0.1147,  0.1676, -0.1059,\n",
       "          -0.0311, -0.0037,  0.0276, -0.1434, -0.1341,  0.1028, -0.0443,  0.0923,\n",
       "           0.0108,  0.0621,  0.0416,  0.0687]], requires_grad=True),\n",
       " Parameter containing:\n",
       " tensor([0.0937], requires_grad=True)]"
      ]
     },
     "execution_count": 26,
     "metadata": {},
     "output_type": "execute_result"
    }
   ],
   "source": [
    "list(model.parameters())"
   ]
  },
  {
   "cell_type": "code",
   "execution_count": 27,
   "metadata": {},
   "outputs": [
    {
     "data": {
      "text/plain": [
       "{'state': {},\n",
       " 'param_groups': [{'lr': 1e-05,\n",
       "   'momentum': 0,\n",
       "   'dampening': 0,\n",
       "   'weight_decay': 0,\n",
       "   'nesterov': False,\n",
       "   'params': [0, 1]}]}"
      ]
     },
     "execution_count": 27,
     "metadata": {},
     "output_type": "execute_result"
    }
   ],
   "source": [
    "optimizer.state_dict()"
   ]
  },
  {
   "cell_type": "markdown",
   "metadata": {},
   "source": [
    "Create Dataloader object"
   ]
  },
  {
   "cell_type": "code",
   "execution_count": 28,
   "metadata": {},
   "outputs": [],
   "source": [
    "trainloader = DataLoader(dataset = df, batch_size = 10)#Let us take batch size as 10"
   ]
  },
  {
   "cell_type": "markdown",
   "metadata": {},
   "source": [
    "Let us train the model."
   ]
  },
  {
   "cell_type": "code",
   "execution_count": 29,
   "metadata": {},
   "outputs": [],
   "source": [
    "# Train Model\n",
    "LOSS=[]\n",
    "def train_model_BGD(iter):\n",
    "    for epoch in range(iter):\n",
    "        for x,y in trainloader:\n",
    "            yhat = model(x.float())\n",
    "            loss = criterion(yhat, y.float())\n",
    "            LOSS.append(loss)\n",
    "            optimizer.zero_grad#Set gradient to 0,Stochastic Gradient Descent\n",
    "            loss.backward()\n",
    "\n",
    "            optimizer.step()#Update the parameters\n",
    "\n",
    "\n",
    "\n",
    "train_model_BGD(10)"
   ]
  },
  {
   "cell_type": "markdown",
   "metadata": {},
   "source": [
    "Let us load our testing data."
   ]
  },
  {
   "cell_type": "code",
   "execution_count": 30,
   "metadata": {},
   "outputs": [],
   "source": [
    "dft=pd.read_csv('Dataset/test_clean_data.csv')"
   ]
  },
  {
   "cell_type": "markdown",
   "metadata": {},
   "source": [
    "Let us clean our data and convert it to tensor."
   ]
  },
  {
   "cell_type": "code",
   "execution_count": 31,
   "metadata": {},
   "outputs": [],
   "source": [
    "x_new_test=dft.iloc[:,:].values        \n",
    "sc=StandardScaler()\n",
    "X_test=sc.fit_transform(x_new_test)\n",
    "        \n",
    "X_test=torch.tensor(X_test,dtype=torch.float64)"
   ]
  },
  {
   "cell_type": "markdown",
   "metadata": {},
   "source": [
    "Let us predict our values."
   ]
  },
  {
   "cell_type": "code",
   "execution_count": 48,
   "metadata": {},
   "outputs": [
    {
     "data": {
      "text/plain": [
       "array([[ 3.6382388e+05],\n",
       "       [-4.6425031e+05],\n",
       "       [ 1.7755347e+05],\n",
       "       ...,\n",
       "       [ 2.6457369e+05],\n",
       "       [ 6.0673750e+04],\n",
       "       [-3.1839874e+02]], dtype=float32)"
      ]
     },
     "execution_count": 48,
     "metadata": {},
     "output_type": "execute_result"
    }
   ],
   "source": [
    "pred=model(X_test.float())\n",
    "pred=pred.detach().numpy()\n",
    "pred"
   ]
  },
  {
   "cell_type": "code",
   "execution_count": 54,
   "metadata": {},
   "outputs": [
    {
     "data": {
      "image/png": "[encoded data removed]",
      "text/plain": [
       "<Figure size 432x288 with 1 Axes>"
      ]
     },
     "metadata": {
      "needs_background": "light"
     },
     "output_type": "display_data"
    },
    {
     "name": "stdout",
     "output_type": "stream",
     "text": [
      "(100, 28) (100, 1)\n"
     ]
    }
   ],
   "source": [
    "x1=df.X_train.detach().numpy()[:100]\n",
    "y1=df.Y_train.detach().numpy()[:100]\n",
    "\n",
    "plt.plot(x1[:,0], y1)\n",
    "plt.plot(x1[:,0], pred[:100] , \"red\")\n",
    "plt.xlabel(\"Celcius\")\n",
    "plt.ylabel(\"Farenhite\")\n",
    "plt.show()\n",
    "print(df.X_train.detach().numpy()[:100].shape,df.Y_train.detach().numpy()[:100].shape)"
   ]
  },
  {
   "cell_type": "code",
   "execution_count": 33,
   "metadata": {},
   "outputs": [
    {
     "data": {
      "image/png": "[encoded data removed]",
      "text/plain": [
       "<Figure size 432x288 with 1 Axes>"
      ]
     },
     "metadata": {
      "needs_background": "light"
     },
     "output_type": "display_data"
    }
   ],
   "source": [
    "plt.plot(LOSS,label=\"Batch Gradient Descent\")\n",
    "plt.xlabel('epoch')\n",
    "plt.ylabel('Cost/ total loss')\n",
    "plt.legend()\n",
    "plt.show()"
   ]
  },
  {
   "cell_type": "markdown",
   "metadata": {},
   "source": [
    "Our loss is in the range of 1 to 0."
   ]
  }
 ],
 "metadata": {
  "kernelspec": {
   "display_name": "Python 3",
   "language": "python",
   "name": "python3"
  },
  "language_info": {
   "codemirror_mode": {
    "name": "ipython",
    "version": 3
   },
   "file_extension": ".py",
   "mimetype": "text/x-python",
   "name": "python",
   "nbconvert_exporter": "python",
   "pygments_lexer": "ipython3",
   "version": "3.7.4"
  }
 },
 "nbformat": 4,
 "nbformat_minor": 2
}
