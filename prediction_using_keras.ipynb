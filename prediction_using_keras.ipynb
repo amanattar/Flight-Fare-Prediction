{
 "cells": [
  {
   "cell_type": "markdown",
   "metadata": {},
   "source": [
    "# Prediction using keras"
   ]
  },
  {
   "cell_type": "markdown",
   "metadata": {},
   "source": [
    "Let us import pandas to read our csv file."
   ]
  },
  {
   "cell_type": "code",
   "execution_count": 25,
   "metadata": {},
   "outputs": [],
   "source": [
    "import pandas as pd"
   ]
  },
  {
   "cell_type": "code",
   "execution_count": 26,
   "metadata": {},
   "outputs": [],
   "source": [
    "df=pd.read_csv('Dataset/train_clean_data.csv')"
   ]
  },
  {
   "cell_type": "code",
   "execution_count": 27,
   "metadata": {},
   "outputs": [
    {
     "data": {
      "text/html": [
       "<div>\n",
       "<style scoped>\n",
       "    .dataframe tbody tr th:only-of-type {\n",
       "        vertical-align: middle;\n",
       "    }\n",
       "\n",
       "    .dataframe tbody tr th {\n",
       "        vertical-align: top;\n",
       "    }\n",
       "\n",
       "    .dataframe thead th {\n",
       "        text-align: right;\n",
       "    }\n",
       "</style>\n",
       "<table border=\"1\" class=\"dataframe\">\n",
       "  <thead>\n",
       "    <tr style=\"text-align: right;\">\n",
       "      <th></th>\n",
       "      <th>Total_Stops</th>\n",
       "      <th>Price</th>\n",
       "      <th>Journey_Month</th>\n",
       "      <th>Journey_Day</th>\n",
       "      <th>Dep_hour</th>\n",
       "      <th>Dep_min</th>\n",
       "      <th>Arrival_hour</th>\n",
       "      <th>Arrival_min</th>\n",
       "      <th>Duration_hour</th>\n",
       "      <th>Duration_min</th>\n",
       "      <th>...</th>\n",
       "      <th>Airline_Vistara Premium economy</th>\n",
       "      <th>Source_Chennai</th>\n",
       "      <th>Source_Delhi</th>\n",
       "      <th>Source_Kolkata</th>\n",
       "      <th>Source_Mumbai</th>\n",
       "      <th>Destination_Cochin</th>\n",
       "      <th>Destination_Delhi</th>\n",
       "      <th>Destination_Hyderabad</th>\n",
       "      <th>Destination_Kolkata</th>\n",
       "      <th>Destination_New Delhi</th>\n",
       "    </tr>\n",
       "  </thead>\n",
       "  <tbody>\n",
       "    <tr>\n",
       "      <td>0</td>\n",
       "      <td>0</td>\n",
       "      <td>3897</td>\n",
       "      <td>3</td>\n",
       "      <td>24</td>\n",
       "      <td>22</td>\n",
       "      <td>20</td>\n",
       "      <td>1</td>\n",
       "      <td>10</td>\n",
       "      <td>2</td>\n",
       "      <td>50</td>\n",
       "      <td>...</td>\n",
       "      <td>0</td>\n",
       "      <td>0</td>\n",
       "      <td>0</td>\n",
       "      <td>0</td>\n",
       "      <td>0</td>\n",
       "      <td>0</td>\n",
       "      <td>0</td>\n",
       "      <td>0</td>\n",
       "      <td>0</td>\n",
       "      <td>1</td>\n",
       "    </tr>\n",
       "    <tr>\n",
       "      <td>1</td>\n",
       "      <td>2</td>\n",
       "      <td>7662</td>\n",
       "      <td>5</td>\n",
       "      <td>1</td>\n",
       "      <td>5</td>\n",
       "      <td>50</td>\n",
       "      <td>13</td>\n",
       "      <td>15</td>\n",
       "      <td>7</td>\n",
       "      <td>25</td>\n",
       "      <td>...</td>\n",
       "      <td>0</td>\n",
       "      <td>0</td>\n",
       "      <td>0</td>\n",
       "      <td>1</td>\n",
       "      <td>0</td>\n",
       "      <td>0</td>\n",
       "      <td>0</td>\n",
       "      <td>0</td>\n",
       "      <td>0</td>\n",
       "      <td>0</td>\n",
       "    </tr>\n",
       "    <tr>\n",
       "      <td>2</td>\n",
       "      <td>2</td>\n",
       "      <td>13882</td>\n",
       "      <td>6</td>\n",
       "      <td>9</td>\n",
       "      <td>9</td>\n",
       "      <td>25</td>\n",
       "      <td>4</td>\n",
       "      <td>25</td>\n",
       "      <td>19</td>\n",
       "      <td>0</td>\n",
       "      <td>...</td>\n",
       "      <td>0</td>\n",
       "      <td>0</td>\n",
       "      <td>1</td>\n",
       "      <td>0</td>\n",
       "      <td>0</td>\n",
       "      <td>1</td>\n",
       "      <td>0</td>\n",
       "      <td>0</td>\n",
       "      <td>0</td>\n",
       "      <td>0</td>\n",
       "    </tr>\n",
       "    <tr>\n",
       "      <td>3</td>\n",
       "      <td>1</td>\n",
       "      <td>6218</td>\n",
       "      <td>5</td>\n",
       "      <td>12</td>\n",
       "      <td>18</td>\n",
       "      <td>5</td>\n",
       "      <td>23</td>\n",
       "      <td>30</td>\n",
       "      <td>5</td>\n",
       "      <td>25</td>\n",
       "      <td>...</td>\n",
       "      <td>0</td>\n",
       "      <td>0</td>\n",
       "      <td>0</td>\n",
       "      <td>1</td>\n",
       "      <td>0</td>\n",
       "      <td>0</td>\n",
       "      <td>0</td>\n",
       "      <td>0</td>\n",
       "      <td>0</td>\n",
       "      <td>0</td>\n",
       "    </tr>\n",
       "    <tr>\n",
       "      <td>4</td>\n",
       "      <td>1</td>\n",
       "      <td>13302</td>\n",
       "      <td>3</td>\n",
       "      <td>1</td>\n",
       "      <td>16</td>\n",
       "      <td>50</td>\n",
       "      <td>21</td>\n",
       "      <td>35</td>\n",
       "      <td>4</td>\n",
       "      <td>45</td>\n",
       "      <td>...</td>\n",
       "      <td>0</td>\n",
       "      <td>0</td>\n",
       "      <td>0</td>\n",
       "      <td>0</td>\n",
       "      <td>0</td>\n",
       "      <td>0</td>\n",
       "      <td>0</td>\n",
       "      <td>0</td>\n",
       "      <td>0</td>\n",
       "      <td>1</td>\n",
       "    </tr>\n",
       "  </tbody>\n",
       "</table>\n",
       "<p>5 rows × 29 columns</p>\n",
       "</div>"
      ],
      "text/plain": [
       "   Total_Stops  Price  Journey_Month  Journey_Day  Dep_hour  Dep_min  \\\n",
       "0            0   3897              3           24        22       20   \n",
       "1            2   7662              5            1         5       50   \n",
       "2            2  13882              6            9         9       25   \n",
       "3            1   6218              5           12        18        5   \n",
       "4            1  13302              3            1        16       50   \n",
       "\n",
       "   Arrival_hour  Arrival_min  Duration_hour  Duration_min  ...  \\\n",
       "0             1           10              2            50  ...   \n",
       "1            13           15              7            25  ...   \n",
       "2             4           25             19             0  ...   \n",
       "3            23           30              5            25  ...   \n",
       "4            21           35              4            45  ...   \n",
       "\n",
       "   Airline_Vistara Premium economy  Source_Chennai  Source_Delhi  \\\n",
       "0                                0               0             0   \n",
       "1                                0               0             0   \n",
       "2                                0               0             1   \n",
       "3                                0               0             0   \n",
       "4                                0               0             0   \n",
       "\n",
       "   Source_Kolkata  Source_Mumbai  Destination_Cochin  Destination_Delhi  \\\n",
       "0               0              0                   0                  0   \n",
       "1               1              0                   0                  0   \n",
       "2               0              0                   1                  0   \n",
       "3               1              0                   0                  0   \n",
       "4               0              0                   0                  0   \n",
       "\n",
       "   Destination_Hyderabad  Destination_Kolkata  Destination_New Delhi  \n",
       "0                      0                    0                      1  \n",
       "1                      0                    0                      0  \n",
       "2                      0                    0                      0  \n",
       "3                      0                    0                      0  \n",
       "4                      0                    0                      1  \n",
       "\n",
       "[5 rows x 29 columns]"
      ]
     },
     "execution_count": 27,
     "metadata": {},
     "output_type": "execute_result"
    }
   ],
   "source": [
    "df.head()"
   ]
  },
  {
   "cell_type": "markdown",
   "metadata": {},
   "source": [
    "Let us assign price as output and rest all of the columns as input."
   ]
  },
  {
   "cell_type": "code",
   "execution_count": 28,
   "metadata": {},
   "outputs": [],
   "source": [
    "X=df.drop(['Price'],axis=1)\n",
    "y=df[['Price']]\n",
    "X=X.iloc[:,:].values\n",
    "y=y.iloc[:,:].values"
   ]
  },
  {
   "cell_type": "code",
   "execution_count": 29,
   "metadata": {},
   "outputs": [
    {
     "data": {
      "text/plain": [
       "array([[ 0,  3, 24, ...,  0,  0,  1],\n",
       "       [ 2,  5,  1, ...,  0,  0,  0],\n",
       "       [ 2,  6,  9, ...,  0,  0,  0],\n",
       "       ...,\n",
       "       [ 0,  4, 27, ...,  0,  0,  0],\n",
       "       [ 0,  3,  1, ...,  0,  0,  1],\n",
       "       [ 2,  5,  9, ...,  0,  0,  0]], dtype=int64)"
      ]
     },
     "execution_count": 29,
     "metadata": {},
     "output_type": "execute_result"
    }
   ],
   "source": [
    "X"
   ]
  },
  {
   "cell_type": "code",
   "execution_count": 30,
   "metadata": {},
   "outputs": [
    {
     "data": {
      "text/plain": [
       "(10681, 28)"
      ]
     },
     "execution_count": 30,
     "metadata": {},
     "output_type": "execute_result"
    }
   ],
   "source": [
    "X.shape"
   ]
  },
  {
   "cell_type": "code",
   "execution_count": 31,
   "metadata": {},
   "outputs": [
    {
     "data": {
      "text/plain": [
       "array([[ 3897],\n",
       "       [ 7662],\n",
       "       [13882],\n",
       "       ...,\n",
       "       [ 7229],\n",
       "       [12648],\n",
       "       [11753]], dtype=int64)"
      ]
     },
     "execution_count": 31,
     "metadata": {},
     "output_type": "execute_result"
    }
   ],
   "source": [
    "y"
   ]
  },
  {
   "cell_type": "code",
   "execution_count": 32,
   "metadata": {},
   "outputs": [
    {
     "data": {
      "text/plain": [
       "(10681, 1)"
      ]
     },
     "execution_count": 32,
     "metadata": {},
     "output_type": "execute_result"
    }
   ],
   "source": [
    "y.shape"
   ]
  },
  {
   "cell_type": "markdown",
   "metadata": {},
   "source": [
    "Let us normalize our input and output."
   ]
  },
  {
   "cell_type": "code",
   "execution_count": 33,
   "metadata": {},
   "outputs": [],
   "source": [
    "# data normalization with sklearn\n",
    "from sklearn.preprocessing import MinMaxScaler,StandardScaler\n",
    "\n",
    "scaler = StandardScaler() \n",
    "X_scaled = scaler.fit_transform(X)\n",
    "y_scaled = scaler.fit_transform(y)\n"
   ]
  },
  {
   "cell_type": "code",
   "execution_count": 34,
   "metadata": {},
   "outputs": [
    {
     "data": {
      "text/plain": [
       "array([[-1.22058845, -1.46761891,  1.23719214, ..., -0.26401621,\n",
       "        -0.1923286 ,  3.23423877],\n",
       "       [ 1.74138025,  0.25016506, -1.47537531, ..., -0.26401621,\n",
       "        -0.1923286 , -0.30919177],\n",
       "       [ 1.74138025,  1.10905704, -0.53187359, ..., -0.26401621,\n",
       "        -0.1923286 , -0.30919177],\n",
       "       ...,\n",
       "       [-1.22058845, -0.60872693,  1.59100529, ..., -0.26401621,\n",
       "        -0.1923286 , -0.30919177],\n",
       "       [-1.22058845, -1.46761891, -1.47537531, ..., -0.26401621,\n",
       "        -0.1923286 ,  3.23423877],\n",
       "       [ 1.74138025,  0.25016506, -0.53187359, ..., -0.26401621,\n",
       "        -0.1923286 , -0.30919177]])"
      ]
     },
     "execution_count": 34,
     "metadata": {},
     "output_type": "execute_result"
    }
   ],
   "source": [
    "X_scaled"
   ]
  },
  {
   "cell_type": "code",
   "execution_count": 35,
   "metadata": {},
   "outputs": [
    {
     "data": {
      "text/plain": [
       "array([[-1.12564296],\n",
       "       [-0.30917044],\n",
       "       [ 1.03968987],\n",
       "       ...,\n",
       "       [-0.4030702 ],\n",
       "       [ 0.7720864 ],\n",
       "       [ 0.57799797]])"
      ]
     },
     "execution_count": 35,
     "metadata": {},
     "output_type": "execute_result"
    }
   ],
   "source": [
    "y_scaled"
   ]
  },
  {
   "cell_type": "markdown",
   "metadata": {},
   "source": [
    "Let us import Sequential for declaring our model and Dense to specify number of layers."
   ]
  },
  {
   "cell_type": "code",
   "execution_count": 36,
   "metadata": {},
   "outputs": [],
   "source": [
    "from tensorflow.keras.models import Sequential\n",
    "from tensorflow.keras.layers import Dense"
   ]
  },
  {
   "cell_type": "markdown",
   "metadata": {},
   "source": [
    "Let us define keras model with 18 layers with input layer having 256 nodes, optimizer adam and loss mean_squared_error for regression."
   ]
  },
  {
   "cell_type": "code",
   "execution_count": 40,
   "metadata": {},
   "outputs": [],
   "source": [
    "def regression_model():\n",
    "    # create model\n",
    "    model = Sequential()\n",
    "    model.add(Dense(256, activation='relu', input_shape=(28,)))\n",
    "    model.add(Dense(64, activation='relu'))\n",
    "    model.add(Dense(32, activation='relu'))\n",
    "    model.add(Dense(32, activation='relu'))\n",
    "    model.add(Dense(32, activation='relu'))\n",
    "    model.add(Dense(32, activation='relu'))\n",
    "    model.add(Dense(32, activation='relu'))\n",
    "    model.add(Dense(32, activation='relu'))\n",
    "    model.add(Dense(32, activation='relu'))\n",
    "    model.add(Dense(32, activation='relu'))\n",
    "    model.add(Dense(32, activation='relu'))\n",
    "    model.add(Dense(32, activation='relu'))\n",
    "    model.add(Dense(32, activation='relu'))\n",
    "    model.add(Dense(32, activation='relu'))\n",
    "    model.add(Dense(32, activation='relu'))\n",
    "    model.add(Dense(32, activation='relu'))\n",
    "    model.add(Dense(32, activation='relu'))\n",
    "    model.add(Dense(1))\n",
    "    \n",
    "    # compile model\n",
    "    model.compile(optimizer='adam', loss='mean_squared_error')\n",
    "    return model"
   ]
  },
  {
   "cell_type": "code",
   "execution_count": 41,
   "metadata": {},
   "outputs": [],
   "source": [
    "model = regression_model()"
   ]
  },
  {
   "cell_type": "markdown",
   "metadata": {},
   "source": [
    "Let us fit our training data."
   ]
  },
  {
   "cell_type": "code",
   "execution_count": 42,
   "metadata": {},
   "outputs": [
    {
     "name": "stdout",
     "output_type": "stream",
     "text": [
      "Epoch 1/100\n",
      "234/234 - 1s - loss: 0.4840 - val_loss: 0.3099\n",
      "Epoch 2/100\n",
      "234/234 - 1s - loss: 0.3754 - val_loss: 0.2626\n",
      "Epoch 3/100\n",
      "234/234 - 1s - loss: 0.2781 - val_loss: 0.2454\n",
      "Epoch 4/100\n",
      "234/234 - 0s - loss: 0.2697 - val_loss: 0.2720\n",
      "Epoch 5/100\n",
      "234/234 - 1s - loss: 0.2749 - val_loss: 0.2648\n",
      "Epoch 6/100\n",
      "234/234 - 1s - loss: 0.2310 - val_loss: 0.2314\n",
      "Epoch 7/100\n",
      "234/234 - 1s - loss: 0.3195 - val_loss: 0.3604\n",
      "Epoch 8/100\n",
      "234/234 - 1s - loss: 0.2647 - val_loss: 0.2200\n",
      "Epoch 9/100\n",
      "234/234 - 1s - loss: 0.2198 - val_loss: 0.2106\n",
      "Epoch 10/100\n",
      "234/234 - 0s - loss: 0.2247 - val_loss: 0.2132\n",
      "Epoch 11/100\n",
      "234/234 - 1s - loss: 0.1934 - val_loss: 0.2081\n",
      "Epoch 12/100\n",
      "234/234 - 1s - loss: 0.2213 - val_loss: 0.2907\n",
      "Epoch 13/100\n",
      "234/234 - 0s - loss: 0.2339 - val_loss: 0.2481\n",
      "Epoch 14/100\n",
      "234/234 - 0s - loss: 0.1976 - val_loss: 0.2156\n",
      "Epoch 15/100\n",
      "234/234 - 1s - loss: 0.1851 - val_loss: 0.2979\n",
      "Epoch 16/100\n",
      "234/234 - 1s - loss: 0.3426 - val_loss: 0.2401\n",
      "Epoch 17/100\n",
      "234/234 - 1s - loss: 0.2108 - val_loss: 0.2298\n",
      "Epoch 18/100\n",
      "234/234 - 0s - loss: 0.1888 - val_loss: 0.2033\n",
      "Epoch 19/100\n",
      "234/234 - 1s - loss: 0.2636 - val_loss: 0.2341\n",
      "Epoch 20/100\n",
      "234/234 - 1s - loss: 0.2164 - val_loss: 0.2285\n",
      "Epoch 21/100\n",
      "234/234 - 1s - loss: 0.2453 - val_loss: 0.2462\n",
      "Epoch 22/100\n",
      "234/234 - 0s - loss: 0.2076 - val_loss: 0.2077\n",
      "Epoch 23/100\n",
      "234/234 - 1s - loss: 0.1966 - val_loss: 0.1987\n",
      "Epoch 24/100\n",
      "234/234 - 1s - loss: 0.2142 - val_loss: 0.2235\n",
      "Epoch 25/100\n",
      "234/234 - 1s - loss: 0.1818 - val_loss: 0.1939\n",
      "Epoch 26/100\n",
      "234/234 - 1s - loss: 0.1702 - val_loss: 0.1903\n",
      "Epoch 27/100\n",
      "234/234 - 1s - loss: 0.1774 - val_loss: 0.2123\n",
      "Epoch 28/100\n",
      "234/234 - 1s - loss: 0.1653 - val_loss: 0.1960\n",
      "Epoch 29/100\n",
      "234/234 - 1s - loss: 0.1553 - val_loss: 0.2387\n",
      "Epoch 30/100\n",
      "234/234 - 1s - loss: 0.1539 - val_loss: 0.2041\n",
      "Epoch 31/100\n",
      "234/234 - 1s - loss: 0.1458 - val_loss: 0.2206\n",
      "Epoch 32/100\n",
      "234/234 - 1s - loss: 0.1522 - val_loss: 0.2182\n",
      "Epoch 33/100\n",
      "234/234 - 1s - loss: 0.1253 - val_loss: 0.2477\n",
      "Epoch 34/100\n",
      "234/234 - 0s - loss: 0.1514 - val_loss: 0.2212\n",
      "Epoch 35/100\n",
      "234/234 - 1s - loss: 0.1467 - val_loss: 0.2008\n",
      "Epoch 36/100\n",
      "234/234 - 1s - loss: 0.1377 - val_loss: 0.1923\n",
      "Epoch 37/100\n",
      "234/234 - 1s - loss: 0.1498 - val_loss: 0.1850\n",
      "Epoch 38/100\n",
      "234/234 - 1s - loss: 0.1441 - val_loss: 0.2123\n",
      "Epoch 39/100\n",
      "234/234 - 0s - loss: 0.1624 - val_loss: 0.1975\n",
      "Epoch 40/100\n",
      "234/234 - 1s - loss: 0.1393 - val_loss: 0.1859\n",
      "Epoch 41/100\n",
      "234/234 - 0s - loss: 0.1321 - val_loss: 0.2043\n",
      "Epoch 42/100\n",
      "234/234 - 1s - loss: 0.1316 - val_loss: 0.2003\n",
      "Epoch 43/100\n",
      "234/234 - 1s - loss: 0.1315 - val_loss: 0.2198\n",
      "Epoch 44/100\n",
      "234/234 - 0s - loss: 0.1452 - val_loss: 0.2121\n",
      "Epoch 45/100\n",
      "234/234 - 1s - loss: 0.1283 - val_loss: 0.2025\n",
      "Epoch 46/100\n",
      "234/234 - 1s - loss: 0.1268 - val_loss: 0.1924\n",
      "Epoch 47/100\n",
      "234/234 - 1s - loss: 0.1195 - val_loss: 0.2370\n",
      "Epoch 48/100\n",
      "234/234 - 1s - loss: 0.1400 - val_loss: 0.1922\n",
      "Epoch 49/100\n",
      "234/234 - 1s - loss: 0.1574 - val_loss: 0.1877\n",
      "Epoch 50/100\n",
      "234/234 - 1s - loss: 0.1293 - val_loss: 0.1940\n",
      "Epoch 51/100\n",
      "234/234 - 1s - loss: 0.1188 - val_loss: 0.1886\n",
      "Epoch 52/100\n",
      "234/234 - 1s - loss: 0.1109 - val_loss: 0.2223\n",
      "Epoch 53/100\n",
      "234/234 - 1s - loss: 0.1192 - val_loss: 0.1960\n",
      "Epoch 54/100\n",
      "234/234 - 1s - loss: 0.1216 - val_loss: 0.2361\n",
      "Epoch 55/100\n",
      "234/234 - 1s - loss: 0.1440 - val_loss: 0.1885\n",
      "Epoch 56/100\n",
      "234/234 - 1s - loss: 0.1274 - val_loss: 0.1997\n",
      "Epoch 57/100\n",
      "234/234 - 1s - loss: 0.1073 - val_loss: 0.1890\n",
      "Epoch 58/100\n",
      "234/234 - 1s - loss: 0.1125 - val_loss: 0.2124\n",
      "Epoch 59/100\n",
      "234/234 - 0s - loss: 0.1092 - val_loss: 0.1846\n",
      "Epoch 60/100\n",
      "234/234 - 1s - loss: 0.1205 - val_loss: 0.1814\n",
      "Epoch 61/100\n",
      "234/234 - 1s - loss: 0.1163 - val_loss: 0.2109\n",
      "Epoch 62/100\n",
      "234/234 - 0s - loss: 0.1011 - val_loss: 0.2320\n",
      "Epoch 63/100\n",
      "234/234 - 0s - loss: 0.1012 - val_loss: 0.1997\n",
      "Epoch 64/100\n",
      "234/234 - 0s - loss: 0.1022 - val_loss: 0.1855\n",
      "Epoch 65/100\n",
      "234/234 - 1s - loss: 0.1011 - val_loss: 0.2269\n",
      "Epoch 66/100\n",
      "234/234 - 1s - loss: 0.1127 - val_loss: 0.2063\n",
      "Epoch 67/100\n",
      "234/234 - 1s - loss: 0.1281 - val_loss: 0.2018\n",
      "Epoch 68/100\n",
      "234/234 - 1s - loss: 0.1021 - val_loss: 0.1924\n",
      "Epoch 69/100\n",
      "234/234 - 0s - loss: 0.0978 - val_loss: 0.1937\n",
      "Epoch 70/100\n",
      "234/234 - 0s - loss: 0.1064 - val_loss: 0.2042\n",
      "Epoch 71/100\n",
      "234/234 - 0s - loss: 0.1047 - val_loss: 0.1795\n",
      "Epoch 72/100\n",
      "234/234 - 1s - loss: 0.1100 - val_loss: 0.1885\n",
      "Epoch 73/100\n",
      "234/234 - 0s - loss: 0.1055 - val_loss: 0.2160\n",
      "Epoch 74/100\n",
      "234/234 - 0s - loss: 0.1199 - val_loss: 0.1905\n",
      "Epoch 75/100\n",
      "234/234 - 1s - loss: 0.1025 - val_loss: 0.2400\n",
      "Epoch 76/100\n",
      "234/234 - 1s - loss: 0.1047 - val_loss: 0.2037\n",
      "Epoch 77/100\n",
      "234/234 - 0s - loss: 0.1195 - val_loss: 0.2051\n",
      "Epoch 78/100\n",
      "234/234 - 1s - loss: 0.1125 - val_loss: 0.1909\n",
      "Epoch 79/100\n",
      "234/234 - 1s - loss: 0.1176 - val_loss: 0.2101\n",
      "Epoch 80/100\n",
      "234/234 - 1s - loss: 0.1029 - val_loss: 0.1874\n",
      "Epoch 81/100\n",
      "234/234 - 0s - loss: 0.0931 - val_loss: 0.2024\n",
      "Epoch 82/100\n",
      "234/234 - 1s - loss: 0.1028 - val_loss: 0.1831\n",
      "Epoch 83/100\n",
      "234/234 - 1s - loss: 0.0981 - val_loss: 0.2009\n",
      "Epoch 84/100\n",
      "234/234 - 1s - loss: 0.0909 - val_loss: 0.1952\n",
      "Epoch 85/100\n",
      "234/234 - 1s - loss: 0.0909 - val_loss: 0.2105\n",
      "Epoch 86/100\n",
      "234/234 - 1s - loss: 0.1026 - val_loss: 0.2694\n",
      "Epoch 87/100\n",
      "234/234 - 0s - loss: 0.1063 - val_loss: 0.2045\n",
      "Epoch 88/100\n",
      "234/234 - 0s - loss: 0.1013 - val_loss: 0.1963\n",
      "Epoch 89/100\n",
      "234/234 - 0s - loss: 0.1010 - val_loss: 0.2288\n",
      "Epoch 90/100\n",
      "234/234 - 1s - loss: 0.0979 - val_loss: 0.2094\n",
      "Epoch 91/100\n",
      "234/234 - 1s - loss: 0.0830 - val_loss: 0.2071\n",
      "Epoch 92/100\n",
      "234/234 - 1s - loss: 0.0813 - val_loss: 0.2069\n",
      "Epoch 93/100\n",
      "234/234 - 1s - loss: 0.0849 - val_loss: 0.1937\n",
      "Epoch 94/100\n",
      "234/234 - 1s - loss: 0.0966 - val_loss: 0.1966\n",
      "Epoch 95/100\n",
      "234/234 - 1s - loss: 0.1000 - val_loss: 0.1997\n",
      "Epoch 96/100\n",
      "234/234 - 0s - loss: 0.0943 - val_loss: 0.2031\n",
      "Epoch 97/100\n",
      "234/234 - 0s - loss: 0.1057 - val_loss: 0.2043\n",
      "Epoch 98/100\n",
      "234/234 - 1s - loss: 0.0920 - val_loss: 0.1947\n",
      "Epoch 99/100\n",
      "234/234 - 0s - loss: 0.0838 - val_loss: 0.2153\n",
      "Epoch 100/100\n",
      "234/234 - 0s - loss: 0.0865 - val_loss: 0.1967\n"
     ]
    },
    {
     "data": {
      "text/plain": [
       "<tensorflow.python.keras.callbacks.History at 0x25dd7311948>"
      ]
     },
     "execution_count": 42,
     "metadata": {},
     "output_type": "execute_result"
    }
   ],
   "source": [
    "model.fit(X_scaled, y_scaled, validation_split=0.3, epochs=100, verbose=2)"
   ]
  },
  {
   "cell_type": "markdown",
   "metadata": {},
   "source": [
    "Let us import testing data and normalize it."
   ]
  },
  {
   "cell_type": "code",
   "execution_count": 43,
   "metadata": {},
   "outputs": [],
   "source": [
    "df=pd.read_csv('Dataset/test_clean_data.csv')"
   ]
  },
  {
   "cell_type": "code",
   "execution_count": 44,
   "metadata": {},
   "outputs": [
    {
     "data": {
      "text/html": [
       "<div>\n",
       "<style scoped>\n",
       "    .dataframe tbody tr th:only-of-type {\n",
       "        vertical-align: middle;\n",
       "    }\n",
       "\n",
       "    .dataframe tbody tr th {\n",
       "        vertical-align: top;\n",
       "    }\n",
       "\n",
       "    .dataframe thead th {\n",
       "        text-align: right;\n",
       "    }\n",
       "</style>\n",
       "<table border=\"1\" class=\"dataframe\">\n",
       "  <thead>\n",
       "    <tr style=\"text-align: right;\">\n",
       "      <th></th>\n",
       "      <th>Total_Stops</th>\n",
       "      <th>Journey_Month</th>\n",
       "      <th>Journey_Day</th>\n",
       "      <th>Dep_hour</th>\n",
       "      <th>Dep_min</th>\n",
       "      <th>Arrival_hour</th>\n",
       "      <th>Arrival_min</th>\n",
       "      <th>Duration_hour</th>\n",
       "      <th>Duration_min</th>\n",
       "      <th>Airline_Air India</th>\n",
       "      <th>...</th>\n",
       "      <th>Airline_Vistara Premium economy</th>\n",
       "      <th>Source_Chennai</th>\n",
       "      <th>Source_Delhi</th>\n",
       "      <th>Source_Kolkata</th>\n",
       "      <th>Source_Mumbai</th>\n",
       "      <th>Destination_Cochin</th>\n",
       "      <th>Destination_Delhi</th>\n",
       "      <th>Destination_Hyderabad</th>\n",
       "      <th>Destination_Kolkata</th>\n",
       "      <th>Destination_New Delhi</th>\n",
       "    </tr>\n",
       "  </thead>\n",
       "  <tbody>\n",
       "    <tr>\n",
       "      <td>0</td>\n",
       "      <td>1</td>\n",
       "      <td>6</td>\n",
       "      <td>6</td>\n",
       "      <td>17</td>\n",
       "      <td>30</td>\n",
       "      <td>4</td>\n",
       "      <td>25</td>\n",
       "      <td>10</td>\n",
       "      <td>55</td>\n",
       "      <td>0</td>\n",
       "      <td>...</td>\n",
       "      <td>0</td>\n",
       "      <td>0</td>\n",
       "      <td>1</td>\n",
       "      <td>0</td>\n",
       "      <td>0</td>\n",
       "      <td>1</td>\n",
       "      <td>0</td>\n",
       "      <td>0</td>\n",
       "      <td>0</td>\n",
       "      <td>0</td>\n",
       "    </tr>\n",
       "    <tr>\n",
       "      <td>1</td>\n",
       "      <td>1</td>\n",
       "      <td>5</td>\n",
       "      <td>12</td>\n",
       "      <td>6</td>\n",
       "      <td>20</td>\n",
       "      <td>10</td>\n",
       "      <td>20</td>\n",
       "      <td>4</td>\n",
       "      <td>0</td>\n",
       "      <td>0</td>\n",
       "      <td>...</td>\n",
       "      <td>0</td>\n",
       "      <td>0</td>\n",
       "      <td>0</td>\n",
       "      <td>1</td>\n",
       "      <td>0</td>\n",
       "      <td>0</td>\n",
       "      <td>0</td>\n",
       "      <td>0</td>\n",
       "      <td>0</td>\n",
       "      <td>0</td>\n",
       "    </tr>\n",
       "    <tr>\n",
       "      <td>2</td>\n",
       "      <td>1</td>\n",
       "      <td>5</td>\n",
       "      <td>21</td>\n",
       "      <td>19</td>\n",
       "      <td>15</td>\n",
       "      <td>19</td>\n",
       "      <td>0</td>\n",
       "      <td>23</td>\n",
       "      <td>45</td>\n",
       "      <td>0</td>\n",
       "      <td>...</td>\n",
       "      <td>0</td>\n",
       "      <td>0</td>\n",
       "      <td>1</td>\n",
       "      <td>0</td>\n",
       "      <td>0</td>\n",
       "      <td>1</td>\n",
       "      <td>0</td>\n",
       "      <td>0</td>\n",
       "      <td>0</td>\n",
       "      <td>0</td>\n",
       "    </tr>\n",
       "    <tr>\n",
       "      <td>3</td>\n",
       "      <td>1</td>\n",
       "      <td>5</td>\n",
       "      <td>21</td>\n",
       "      <td>8</td>\n",
       "      <td>0</td>\n",
       "      <td>21</td>\n",
       "      <td>0</td>\n",
       "      <td>13</td>\n",
       "      <td>0</td>\n",
       "      <td>0</td>\n",
       "      <td>...</td>\n",
       "      <td>0</td>\n",
       "      <td>0</td>\n",
       "      <td>1</td>\n",
       "      <td>0</td>\n",
       "      <td>0</td>\n",
       "      <td>1</td>\n",
       "      <td>0</td>\n",
       "      <td>0</td>\n",
       "      <td>0</td>\n",
       "      <td>0</td>\n",
       "    </tr>\n",
       "    <tr>\n",
       "      <td>4</td>\n",
       "      <td>0</td>\n",
       "      <td>6</td>\n",
       "      <td>24</td>\n",
       "      <td>23</td>\n",
       "      <td>55</td>\n",
       "      <td>2</td>\n",
       "      <td>45</td>\n",
       "      <td>2</td>\n",
       "      <td>50</td>\n",
       "      <td>0</td>\n",
       "      <td>...</td>\n",
       "      <td>0</td>\n",
       "      <td>0</td>\n",
       "      <td>0</td>\n",
       "      <td>0</td>\n",
       "      <td>0</td>\n",
       "      <td>0</td>\n",
       "      <td>1</td>\n",
       "      <td>0</td>\n",
       "      <td>0</td>\n",
       "      <td>0</td>\n",
       "    </tr>\n",
       "  </tbody>\n",
       "</table>\n",
       "<p>5 rows × 28 columns</p>\n",
       "</div>"
      ],
      "text/plain": [
       "   Total_Stops  Journey_Month  Journey_Day  Dep_hour  Dep_min  Arrival_hour  \\\n",
       "0            1              6            6        17       30             4   \n",
       "1            1              5           12         6       20            10   \n",
       "2            1              5           21        19       15            19   \n",
       "3            1              5           21         8        0            21   \n",
       "4            0              6           24        23       55             2   \n",
       "\n",
       "   Arrival_min  Duration_hour  Duration_min  Airline_Air India  ...  \\\n",
       "0           25             10            55                  0  ...   \n",
       "1           20              4             0                  0  ...   \n",
       "2            0             23            45                  0  ...   \n",
       "3            0             13             0                  0  ...   \n",
       "4           45              2            50                  0  ...   \n",
       "\n",
       "   Airline_Vistara Premium economy  Source_Chennai  Source_Delhi  \\\n",
       "0                                0               0             1   \n",
       "1                                0               0             0   \n",
       "2                                0               0             1   \n",
       "3                                0               0             1   \n",
       "4                                0               0             0   \n",
       "\n",
       "   Source_Kolkata  Source_Mumbai  Destination_Cochin  Destination_Delhi  \\\n",
       "0               0              0                   1                  0   \n",
       "1               1              0                   0                  0   \n",
       "2               0              0                   1                  0   \n",
       "3               0              0                   1                  0   \n",
       "4               0              0                   0                  1   \n",
       "\n",
       "   Destination_Hyderabad  Destination_Kolkata  Destination_New Delhi  \n",
       "0                      0                    0                      0  \n",
       "1                      0                    0                      0  \n",
       "2                      0                    0                      0  \n",
       "3                      0                    0                      0  \n",
       "4                      0                    0                      0  \n",
       "\n",
       "[5 rows x 28 columns]"
      ]
     },
     "execution_count": 44,
     "metadata": {},
     "output_type": "execute_result"
    }
   ],
   "source": [
    "df.head()"
   ]
  },
  {
   "cell_type": "code",
   "execution_count": 45,
   "metadata": {},
   "outputs": [],
   "source": [
    "X_test=df.iloc[:,:].values"
   ]
  },
  {
   "cell_type": "code",
   "execution_count": 46,
   "metadata": {},
   "outputs": [
    {
     "data": {
      "text/plain": [
       "array([[ 1,  6,  6, ...,  0,  0,  0],\n",
       "       [ 1,  5, 12, ...,  0,  0,  0],\n",
       "       [ 1,  5, 21, ...,  0,  0,  0],\n",
       "       ...,\n",
       "       [ 1,  3,  6, ...,  0,  0,  0],\n",
       "       [ 1,  3,  6, ...,  0,  0,  0],\n",
       "       [ 1,  6, 15, ...,  0,  0,  0]], dtype=int64)"
      ]
     },
     "execution_count": 46,
     "metadata": {},
     "output_type": "execute_result"
    }
   ],
   "source": [
    "X_test"
   ]
  },
  {
   "cell_type": "code",
   "execution_count": 47,
   "metadata": {},
   "outputs": [
    {
     "data": {
      "text/plain": [
       "(2671, 28)"
      ]
     },
     "execution_count": 47,
     "metadata": {},
     "output_type": "execute_result"
    }
   ],
   "source": [
    "X_test.shape"
   ]
  },
  {
   "cell_type": "markdown",
   "metadata": {},
   "source": [
    "Let us normalize our testing data."
   ]
  },
  {
   "cell_type": "code",
   "execution_count": 48,
   "metadata": {},
   "outputs": [],
   "source": [
    "X_scaled_test = scaler.fit_transform(X_test)"
   ]
  },
  {
   "cell_type": "code",
   "execution_count": 50,
   "metadata": {},
   "outputs": [
    {
     "data": {
      "text/plain": [
       "array([[ 0.24785314,  1.09474457, -0.83733254, ..., -0.27358563,\n",
       "        -0.16997235, -0.31276448],\n",
       "       [ 0.24785314,  0.2405048 , -0.11087675, ..., -0.27358563,\n",
       "        -0.16997235, -0.31276448],\n",
       "       [ 0.24785314,  0.2405048 ,  0.97880692, ..., -0.27358563,\n",
       "        -0.16997235, -0.31276448],\n",
       "       ...,\n",
       "       [ 0.24785314, -1.46797475, -0.83733254, ..., -0.27358563,\n",
       "        -0.16997235, -0.31276448],\n",
       "       [ 0.24785314, -1.46797475, -0.83733254, ..., -0.27358563,\n",
       "        -0.16997235, -0.31276448],\n",
       "       [ 0.24785314,  1.09474457,  0.25235114, ..., -0.27358563,\n",
       "        -0.16997235, -0.31276448]])"
      ]
     },
     "execution_count": 50,
     "metadata": {},
     "output_type": "execute_result"
    }
   ],
   "source": [
    "X_scaled_test"
   ]
  },
  {
   "cell_type": "markdown",
   "metadata": {},
   "source": [
    "Let us print predicted values."
   ]
  },
  {
   "cell_type": "code",
   "execution_count": 51,
   "metadata": {},
   "outputs": [
    {
     "data": {
      "text/plain": [
       "array([[ 0.6088825 ],\n",
       "       [-1.0005703 ],\n",
       "       [ 1.1939752 ],\n",
       "       ...,\n",
       "       [ 1.4265465 ],\n",
       "       [ 0.7751548 ],\n",
       "       [-0.23864716]], dtype=float32)"
      ]
     },
     "execution_count": 51,
     "metadata": {},
     "output_type": "execute_result"
    }
   ],
   "source": [
    "pred=model.predict(X_scaled_test)\n",
    "pred"
   ]
  },
  {
   "cell_type": "markdown",
   "metadata": {},
   "source": [
    "Let us print our loss."
   ]
  },
  {
   "cell_type": "code",
   "execution_count": 52,
   "metadata": {},
   "outputs": [
    {
     "name": "stdout",
     "output_type": "stream",
     "text": [
      "Loss: 0.0\n"
     ]
    }
   ],
   "source": [
    "score = model.evaluate(X_scaled_test,pred,verbose=0)\n",
    "print('Loss:',score)"
   ]
  },
  {
   "cell_type": "markdown",
   "metadata": {},
   "source": [
    "Our loss is 0.\n",
    "It's highly accurate."
   ]
  },
  {
   "cell_type": "code",
   "execution_count": 58,
   "metadata": {},
   "outputs": [
    {
     "data": {
      "text/plain": [
       "(2671, 1)"
      ]
     },
     "execution_count": 58,
     "metadata": {},
     "output_type": "execute_result"
    }
   ],
   "source": [
    "pred.shape"
   ]
  },
  {
   "cell_type": "markdown",
   "metadata": {},
   "source": [
    "Let us display our outputs."
   ]
  },
  {
   "cell_type": "code",
   "execution_count": 59,
   "metadata": {},
   "outputs": [
    {
     "data": {
      "image/png": "[encoded data removed]",
      "text/plain": [
       "<Figure size 432x288 with 1 Axes>"
      ]
     },
     "metadata": {
      "needs_background": "light"
     },
     "output_type": "display_data"
    }
   ],
   "source": [
    "import matplotlib.pyplot as plt\n",
    "\n",
    "fig = plt.figure()\n",
    "ax1 = fig.add_subplot(111)\n",
    "ax1.scatter(X_scaled[:,0], y_scaled, s = 100, c = 'g', label = 'testing data')\n",
    "ax1.scatter(X_test[:,0], pred, s = 5, c = 'r', label = 'predicted data')\n",
    "plt.legend(loc='upper right');\n",
    "plt.show()"
   ]
  },
  {
   "cell_type": "code",
   "execution_count": null,
   "metadata": {},
   "outputs": [],
   "source": []
  }
 ],
 "metadata": {
  "kernelspec": {
   "display_name": "Python 3",
   "language": "python",
   "name": "python3"
  },
  "language_info": {
   "codemirror_mode": {
    "name": "ipython",
    "version": 3
   },
   "file_extension": ".py",
   "mimetype": "text/x-python",
   "name": "python",
   "nbconvert_exporter": "python",
   "pygments_lexer": "ipython3",
   "version": "3.7.4"
  }
 },
 "nbformat": 4,
 "nbformat_minor": 2
}
