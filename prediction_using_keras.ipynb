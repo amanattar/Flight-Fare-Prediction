{
 "cells": [
  {
   "cell_type": "markdown",
   "metadata": {},
   "source": [
    "# Prediction using keras tuner and keras"
   ]
  },
  {
   "cell_type": "markdown",
   "metadata": {},
   "source": [
    "Let us import pandas to read our csv file."
   ]
  },
  {
   "cell_type": "code",
   "execution_count": 2,
   "metadata": {},
   "outputs": [],
   "source": [
    "import pandas as pd"
   ]
  },
  {
   "cell_type": "code",
   "execution_count": 3,
   "metadata": {},
   "outputs": [],
   "source": [
    "df=pd.read_csv('Dataset/train_clean_data.csv')"
   ]
  },
  {
   "cell_type": "code",
   "execution_count": 4,
   "metadata": {},
   "outputs": [
    {
     "data": {
      "text/html": [
       "<div>\n",
       "<style scoped>\n",
       "    .dataframe tbody tr th:only-of-type {\n",
       "        vertical-align: middle;\n",
       "    }\n",
       "\n",
       "    .dataframe tbody tr th {\n",
       "        vertical-align: top;\n",
       "    }\n",
       "\n",
       "    .dataframe thead th {\n",
       "        text-align: right;\n",
       "    }\n",
       "</style>\n",
       "<table border=\"1\" class=\"dataframe\">\n",
       "  <thead>\n",
       "    <tr style=\"text-align: right;\">\n",
       "      <th></th>\n",
       "      <th>Total_Stops</th>\n",
       "      <th>Price</th>\n",
       "      <th>Journey_Month</th>\n",
       "      <th>Journey_Day</th>\n",
       "      <th>Dep_hour</th>\n",
       "      <th>Dep_min</th>\n",
       "      <th>Arrival_hour</th>\n",
       "      <th>Arrival_min</th>\n",
       "      <th>Duration_hour</th>\n",
       "      <th>Duration_min</th>\n",
       "      <th>...</th>\n",
       "      <th>Airline_Vistara Premium economy</th>\n",
       "      <th>Source_Chennai</th>\n",
       "      <th>Source_Delhi</th>\n",
       "      <th>Source_Kolkata</th>\n",
       "      <th>Source_Mumbai</th>\n",
       "      <th>Destination_Cochin</th>\n",
       "      <th>Destination_Delhi</th>\n",
       "      <th>Destination_Hyderabad</th>\n",
       "      <th>Destination_Kolkata</th>\n",
       "      <th>Destination_New Delhi</th>\n",
       "    </tr>\n",
       "  </thead>\n",
       "  <tbody>\n",
       "    <tr>\n",
       "      <td>0</td>\n",
       "      <td>0</td>\n",
       "      <td>3897</td>\n",
       "      <td>3</td>\n",
       "      <td>24</td>\n",
       "      <td>22</td>\n",
       "      <td>20</td>\n",
       "      <td>1</td>\n",
       "      <td>10</td>\n",
       "      <td>2</td>\n",
       "      <td>50</td>\n",
       "      <td>...</td>\n",
       "      <td>0</td>\n",
       "      <td>0</td>\n",
       "      <td>0</td>\n",
       "      <td>0</td>\n",
       "      <td>0</td>\n",
       "      <td>0</td>\n",
       "      <td>0</td>\n",
       "      <td>0</td>\n",
       "      <td>0</td>\n",
       "      <td>1</td>\n",
       "    </tr>\n",
       "    <tr>\n",
       "      <td>1</td>\n",
       "      <td>2</td>\n",
       "      <td>7662</td>\n",
       "      <td>5</td>\n",
       "      <td>1</td>\n",
       "      <td>5</td>\n",
       "      <td>50</td>\n",
       "      <td>13</td>\n",
       "      <td>15</td>\n",
       "      <td>7</td>\n",
       "      <td>25</td>\n",
       "      <td>...</td>\n",
       "      <td>0</td>\n",
       "      <td>0</td>\n",
       "      <td>0</td>\n",
       "      <td>1</td>\n",
       "      <td>0</td>\n",
       "      <td>0</td>\n",
       "      <td>0</td>\n",
       "      <td>0</td>\n",
       "      <td>0</td>\n",
       "      <td>0</td>\n",
       "    </tr>\n",
       "    <tr>\n",
       "      <td>2</td>\n",
       "      <td>2</td>\n",
       "      <td>13882</td>\n",
       "      <td>6</td>\n",
       "      <td>9</td>\n",
       "      <td>9</td>\n",
       "      <td>25</td>\n",
       "      <td>4</td>\n",
       "      <td>25</td>\n",
       "      <td>19</td>\n",
       "      <td>0</td>\n",
       "      <td>...</td>\n",
       "      <td>0</td>\n",
       "      <td>0</td>\n",
       "      <td>1</td>\n",
       "      <td>0</td>\n",
       "      <td>0</td>\n",
       "      <td>1</td>\n",
       "      <td>0</td>\n",
       "      <td>0</td>\n",
       "      <td>0</td>\n",
       "      <td>0</td>\n",
       "    </tr>\n",
       "    <tr>\n",
       "      <td>3</td>\n",
       "      <td>1</td>\n",
       "      <td>6218</td>\n",
       "      <td>5</td>\n",
       "      <td>12</td>\n",
       "      <td>18</td>\n",
       "      <td>5</td>\n",
       "      <td>23</td>\n",
       "      <td>30</td>\n",
       "      <td>5</td>\n",
       "      <td>25</td>\n",
       "      <td>...</td>\n",
       "      <td>0</td>\n",
       "      <td>0</td>\n",
       "      <td>0</td>\n",
       "      <td>1</td>\n",
       "      <td>0</td>\n",
       "      <td>0</td>\n",
       "      <td>0</td>\n",
       "      <td>0</td>\n",
       "      <td>0</td>\n",
       "      <td>0</td>\n",
       "    </tr>\n",
       "    <tr>\n",
       "      <td>4</td>\n",
       "      <td>1</td>\n",
       "      <td>13302</td>\n",
       "      <td>3</td>\n",
       "      <td>1</td>\n",
       "      <td>16</td>\n",
       "      <td>50</td>\n",
       "      <td>21</td>\n",
       "      <td>35</td>\n",
       "      <td>4</td>\n",
       "      <td>45</td>\n",
       "      <td>...</td>\n",
       "      <td>0</td>\n",
       "      <td>0</td>\n",
       "      <td>0</td>\n",
       "      <td>0</td>\n",
       "      <td>0</td>\n",
       "      <td>0</td>\n",
       "      <td>0</td>\n",
       "      <td>0</td>\n",
       "      <td>0</td>\n",
       "      <td>1</td>\n",
       "    </tr>\n",
       "  </tbody>\n",
       "</table>\n",
       "<p>5 rows × 30 columns</p>\n",
       "</div>"
      ],
      "text/plain": [
       "   Total_Stops  Price  Journey_Month  Journey_Day  Dep_hour  Dep_min  \\\n",
       "0            0   3897              3           24        22       20   \n",
       "1            2   7662              5            1         5       50   \n",
       "2            2  13882              6            9         9       25   \n",
       "3            1   6218              5           12        18        5   \n",
       "4            1  13302              3            1        16       50   \n",
       "\n",
       "   Arrival_hour  Arrival_min  Duration_hour  Duration_min  ...  \\\n",
       "0             1           10              2            50  ...   \n",
       "1            13           15              7            25  ...   \n",
       "2             4           25             19             0  ...   \n",
       "3            23           30              5            25  ...   \n",
       "4            21           35              4            45  ...   \n",
       "\n",
       "   Airline_Vistara Premium economy  Source_Chennai  Source_Delhi  \\\n",
       "0                                0               0             0   \n",
       "1                                0               0             0   \n",
       "2                                0               0             1   \n",
       "3                                0               0             0   \n",
       "4                                0               0             0   \n",
       "\n",
       "   Source_Kolkata  Source_Mumbai  Destination_Cochin  Destination_Delhi  \\\n",
       "0               0              0                   0                  0   \n",
       "1               1              0                   0                  0   \n",
       "2               0              0                   1                  0   \n",
       "3               1              0                   0                  0   \n",
       "4               0              0                   0                  0   \n",
       "\n",
       "   Destination_Hyderabad  Destination_Kolkata  Destination_New Delhi  \n",
       "0                      0                    0                      1  \n",
       "1                      0                    0                      0  \n",
       "2                      0                    0                      0  \n",
       "3                      0                    0                      0  \n",
       "4                      0                    0                      1  \n",
       "\n",
       "[5 rows x 30 columns]"
      ]
     },
     "execution_count": 4,
     "metadata": {},
     "output_type": "execute_result"
    }
   ],
   "source": [
    "df.head()"
   ]
  },
  {
   "cell_type": "markdown",
   "metadata": {},
   "source": [
    "Let us assign price as output and rest all of the columns as input."
   ]
  },
  {
   "cell_type": "code",
   "execution_count": 5,
   "metadata": {},
   "outputs": [],
   "source": [
    "X=df.drop(['Price'],axis=1)\n",
    "y=df[['Price']]\n",
    "X=X.iloc[:,:].values\n",
    "y=y.iloc[:,:].values"
   ]
  },
  {
   "cell_type": "code",
   "execution_count": 6,
   "metadata": {},
   "outputs": [
    {
     "data": {
      "text/plain": [
       "array([[ 0,  3, 24, ...,  0,  0,  1],\n",
       "       [ 2,  5,  1, ...,  0,  0,  0],\n",
       "       [ 2,  6,  9, ...,  0,  0,  0],\n",
       "       ...,\n",
       "       [ 0,  4, 27, ...,  0,  0,  0],\n",
       "       [ 0,  3,  1, ...,  0,  0,  1],\n",
       "       [ 2,  5,  9, ...,  0,  0,  0]], dtype=int64)"
      ]
     },
     "execution_count": 6,
     "metadata": {},
     "output_type": "execute_result"
    }
   ],
   "source": [
    "X"
   ]
  },
  {
   "cell_type": "code",
   "execution_count": 7,
   "metadata": {},
   "outputs": [
    {
     "data": {
      "text/plain": [
       "(10682, 29)"
      ]
     },
     "execution_count": 7,
     "metadata": {},
     "output_type": "execute_result"
    }
   ],
   "source": [
    "X.shape"
   ]
  },
  {
   "cell_type": "code",
   "execution_count": 8,
   "metadata": {},
   "outputs": [
    {
     "data": {
      "text/plain": [
       "array([[ 3897],\n",
       "       [ 7662],\n",
       "       [13882],\n",
       "       ...,\n",
       "       [ 7229],\n",
       "       [12648],\n",
       "       [11753]], dtype=int64)"
      ]
     },
     "execution_count": 8,
     "metadata": {},
     "output_type": "execute_result"
    }
   ],
   "source": [
    "y"
   ]
  },
  {
   "cell_type": "code",
   "execution_count": 9,
   "metadata": {},
   "outputs": [
    {
     "data": {
      "text/plain": [
       "(10682, 1)"
      ]
     },
     "execution_count": 9,
     "metadata": {},
     "output_type": "execute_result"
    }
   ],
   "source": [
    "y.shape"
   ]
  },
  {
   "cell_type": "markdown",
   "metadata": {},
   "source": [
    "Let us normalize our input and output."
   ]
  },
  {
   "cell_type": "code",
   "execution_count": 10,
   "metadata": {},
   "outputs": [],
   "source": [
    "# data normalization with sklearn\n",
    "from sklearn.preprocessing import MinMaxScaler,StandardScaler\n",
    "\n",
    "scaler = StandardScaler() \n",
    "X_scaled = scaler.fit_transform(X)\n",
    "y_scaled = scaler.fit_transform(y)\n"
   ]
  },
  {
   "cell_type": "code",
   "execution_count": 11,
   "metadata": {},
   "outputs": [
    {
     "data": {
      "text/plain": [
       "array([[-1.22066609, -1.46740227,  1.23728754, ..., -0.2642058 ,\n",
       "        -0.19231927,  3.23440464],\n",
       "       [ 1.74143186,  0.25028893, -1.47530729, ..., -0.2642058 ,\n",
       "        -0.19231927, -0.30917591],\n",
       "       [ 1.74143186,  1.10913453, -0.53179604, ..., -0.2642058 ,\n",
       "        -0.19231927, -0.30917591],\n",
       "       ...,\n",
       "       [-1.22066609, -0.60855667,  1.59110426, ..., -0.2642058 ,\n",
       "        -0.19231927, -0.30917591],\n",
       "       [-1.22066609, -1.46740227, -1.47530729, ..., -0.2642058 ,\n",
       "        -0.19231927,  3.23440464],\n",
       "       [ 1.74143186,  0.25028893, -0.53179604, ..., -0.2642058 ,\n",
       "        -0.19231927, -0.30917591]])"
      ]
     },
     "execution_count": 11,
     "metadata": {},
     "output_type": "execute_result"
    }
   ],
   "source": [
    "X_scaled"
   ]
  },
  {
   "cell_type": "code",
   "execution_count": 12,
   "metadata": {},
   "outputs": [
    {
     "data": {
      "text/plain": [
       "array([[-1.12553455],\n",
       "       [-0.30906781],\n",
       "       [ 1.03978296],\n",
       "       ...,\n",
       "       [-0.40296691],\n",
       "       [ 0.77218138],\n",
       "       [ 0.57809433]])"
      ]
     },
     "execution_count": 12,
     "metadata": {},
     "output_type": "execute_result"
    }
   ],
   "source": [
    "y_scaled"
   ]
  },
  {
   "cell_type": "markdown",
   "metadata": {},
   "source": [
    "Let us split our dataset into training and testing sets."
   ]
  },
  {
   "cell_type": "code",
   "execution_count": 13,
   "metadata": {},
   "outputs": [],
   "source": [
    "from sklearn.model_selection import train_test_split\n",
    "X_train,X_test,y_train,y_test=train_test_split(X_scaled,y_scaled,test_size=0.3,random_state=0)"
   ]
  },
  {
   "cell_type": "markdown",
   "metadata": {},
   "source": [
    "Let us import Sequential for declaring our model and Dense to specify number of layers."
   ]
  },
  {
   "cell_type": "code",
   "execution_count": 14,
   "metadata": {},
   "outputs": [],
   "source": [
    "from tensorflow.keras.models import Sequential\n",
    "from tensorflow.keras.layers import Dense"
   ]
  },
  {
   "cell_type": "markdown",
   "metadata": {},
   "source": [
    "Let us define keras model with 18 layers with input layer having 256 nodes, optimizer adam and loss mean_squared_error for regression."
   ]
  },
  {
   "cell_type": "code",
   "execution_count": 16,
   "metadata": {},
   "outputs": [],
   "source": [
    "def regression_model():\n",
    "    # create model\n",
    "    model = Sequential()\n",
    "    model.add(Dense(256, activation='relu', input_shape=(29,)))\n",
    "    model.add(Dense(64, activation='relu'))\n",
    "    model.add(Dense(32, activation='relu'))\n",
    "    model.add(Dense(32, activation='relu'))\n",
    "    model.add(Dense(32, activation='relu'))\n",
    "    model.add(Dense(32, activation='relu'))\n",
    "    model.add(Dense(32, activation='relu'))\n",
    "    model.add(Dense(32, activation='relu'))\n",
    "    model.add(Dense(32, activation='relu'))\n",
    "    model.add(Dense(32, activation='relu'))\n",
    "    model.add(Dense(32, activation='relu'))\n",
    "    model.add(Dense(32, activation='relu'))\n",
    "    model.add(Dense(32, activation='relu'))\n",
    "    model.add(Dense(32, activation='relu'))\n",
    "    model.add(Dense(32, activation='relu'))\n",
    "    model.add(Dense(32, activation='relu'))\n",
    "    model.add(Dense(32, activation='relu'))\n",
    "    model.add(Dense(1))\n",
    "    \n",
    "    # compile model\n",
    "    model.compile(optimizer='adam', loss='mean_squared_error')\n",
    "    return model"
   ]
  },
  {
   "cell_type": "code",
   "execution_count": 17,
   "metadata": {},
   "outputs": [],
   "source": [
    "model = regression_model()"
   ]
  },
  {
   "cell_type": "markdown",
   "metadata": {},
   "source": [
    "Let us fit our training data."
   ]
  },
  {
   "cell_type": "code",
   "execution_count": 18,
   "metadata": {},
   "outputs": [
    {
     "name": "stdout",
     "output_type": "stream",
     "text": [
      "Epoch 1/100\n",
      "164/164 - 1s - loss: 0.5567 - val_loss: 0.3925\n",
      "Epoch 2/100\n",
      "164/164 - 0s - loss: 0.3643 - val_loss: 0.2684\n",
      "Epoch 3/100\n",
      "164/164 - 0s - loss: 0.3556 - val_loss: 0.4046\n",
      "Epoch 4/100\n",
      "164/164 - 0s - loss: 0.3230 - val_loss: 0.2526\n",
      "Epoch 5/100\n",
      "164/164 - 0s - loss: 0.2718 - val_loss: 0.3402\n",
      "Epoch 6/100\n",
      "164/164 - 0s - loss: 0.2650 - val_loss: 0.2579\n",
      "Epoch 7/100\n",
      "164/164 - 0s - loss: 0.2418 - val_loss: 0.2397\n",
      "Epoch 8/100\n",
      "164/164 - 0s - loss: 0.2250 - val_loss: 0.2230\n",
      "Epoch 9/100\n",
      "164/164 - 0s - loss: 0.2131 - val_loss: 0.2874\n",
      "Epoch 10/100\n",
      "164/164 - 0s - loss: 0.2058 - val_loss: 0.2123\n",
      "Epoch 11/100\n",
      "164/164 - 0s - loss: 0.2058 - val_loss: 0.2528\n",
      "Epoch 12/100\n",
      "164/164 - 0s - loss: 0.2209 - val_loss: 0.2247\n",
      "Epoch 13/100\n",
      "164/164 - 0s - loss: 0.2286 - val_loss: 0.2759\n",
      "Epoch 14/100\n",
      "164/164 - 0s - loss: 0.2153 - val_loss: 0.3580\n",
      "Epoch 15/100\n",
      "164/164 - 0s - loss: 0.2167 - val_loss: 0.2124\n",
      "Epoch 16/100\n",
      "164/164 - 0s - loss: 0.2069 - val_loss: 0.2836\n",
      "Epoch 17/100\n",
      "164/164 - 0s - loss: 0.2768 - val_loss: 0.2320\n",
      "Epoch 18/100\n",
      "164/164 - 0s - loss: 0.1795 - val_loss: 0.3233\n",
      "Epoch 19/100\n",
      "164/164 - 0s - loss: 0.2542 - val_loss: 0.2743\n",
      "Epoch 20/100\n",
      "164/164 - 0s - loss: 0.2087 - val_loss: 0.2168\n",
      "Epoch 21/100\n",
      "164/164 - 0s - loss: 0.1852 - val_loss: 0.2103\n",
      "Epoch 22/100\n",
      "164/164 - 0s - loss: 0.1761 - val_loss: 0.2189\n",
      "Epoch 23/100\n",
      "164/164 - 0s - loss: 0.1568 - val_loss: 0.2085\n",
      "Epoch 24/100\n",
      "164/164 - 0s - loss: 0.1634 - val_loss: 0.2292\n",
      "Epoch 25/100\n",
      "164/164 - 0s - loss: 0.1705 - val_loss: 0.1999\n",
      "Epoch 26/100\n",
      "164/164 - 0s - loss: 0.2154 - val_loss: 0.3209\n",
      "Epoch 27/100\n",
      "164/164 - 0s - loss: 0.2381 - val_loss: 0.2374\n",
      "Epoch 28/100\n",
      "164/164 - 0s - loss: 0.1701 - val_loss: 0.2561\n",
      "Epoch 29/100\n",
      "164/164 - 0s - loss: 0.2112 - val_loss: 0.2252\n",
      "Epoch 30/100\n",
      "164/164 - 0s - loss: 0.1632 - val_loss: 0.2106\n",
      "Epoch 31/100\n",
      "164/164 - 0s - loss: 0.1951 - val_loss: 0.2821\n",
      "Epoch 32/100\n",
      "164/164 - 0s - loss: 0.2108 - val_loss: 0.2126\n",
      "Epoch 33/100\n",
      "164/164 - 0s - loss: 0.1754 - val_loss: 0.2407\n",
      "Epoch 34/100\n",
      "164/164 - 0s - loss: 0.1699 - val_loss: 0.2363\n",
      "Epoch 35/100\n",
      "164/164 - 0s - loss: 0.1406 - val_loss: 0.2377\n",
      "Epoch 36/100\n",
      "164/164 - 0s - loss: 0.1526 - val_loss: 0.2217\n",
      "Epoch 37/100\n",
      "164/164 - 0s - loss: 0.1676 - val_loss: 0.2508\n",
      "Epoch 38/100\n",
      "164/164 - 0s - loss: 0.1780 - val_loss: 0.2463\n",
      "Epoch 39/100\n",
      "164/164 - 0s - loss: 0.1923 - val_loss: 0.1964\n",
      "Epoch 40/100\n",
      "164/164 - 0s - loss: 0.1389 - val_loss: 0.2397\n",
      "Epoch 41/100\n",
      "164/164 - 0s - loss: 0.1283 - val_loss: 0.2102\n",
      "Epoch 42/100\n",
      "164/164 - 0s - loss: 0.1578 - val_loss: 0.2220\n",
      "Epoch 43/100\n",
      "164/164 - 0s - loss: 0.1471 - val_loss: 0.2134\n",
      "Epoch 44/100\n",
      "164/164 - 0s - loss: 0.1355 - val_loss: 0.2253\n",
      "Epoch 45/100\n",
      "164/164 - 0s - loss: 0.1463 - val_loss: 0.1981\n",
      "Epoch 46/100\n",
      "164/164 - 0s - loss: 0.1368 - val_loss: 0.1943\n",
      "Epoch 47/100\n",
      "164/164 - 0s - loss: 0.1243 - val_loss: 0.2364\n",
      "Epoch 48/100\n",
      "164/164 - 0s - loss: 0.1579 - val_loss: 0.2172\n",
      "Epoch 49/100\n",
      "164/164 - 0s - loss: 0.1368 - val_loss: 0.2262\n",
      "Epoch 50/100\n",
      "164/164 - 0s - loss: 0.1256 - val_loss: 0.2351\n",
      "Epoch 51/100\n",
      "164/164 - 0s - loss: 0.2098 - val_loss: 0.2361\n",
      "Epoch 52/100\n",
      "164/164 - 1s - loss: 0.1542 - val_loss: 0.2231\n",
      "Epoch 53/100\n",
      "164/164 - 0s - loss: 0.1507 - val_loss: 0.2186\n",
      "Epoch 54/100\n",
      "164/164 - 1s - loss: 0.1430 - val_loss: 0.2077\n",
      "Epoch 55/100\n",
      "164/164 - 1s - loss: 0.1188 - val_loss: 0.2068\n",
      "Epoch 56/100\n",
      "164/164 - 0s - loss: 0.1177 - val_loss: 0.2143\n",
      "Epoch 57/100\n",
      "164/164 - 0s - loss: 0.1191 - val_loss: 0.2073\n",
      "Epoch 58/100\n",
      "164/164 - 0s - loss: 0.1136 - val_loss: 0.2199\n",
      "Epoch 59/100\n",
      "164/164 - 0s - loss: 0.1355 - val_loss: 0.2129\n",
      "Epoch 60/100\n",
      "164/164 - 0s - loss: 0.1254 - val_loss: 0.2108\n",
      "Epoch 61/100\n",
      "164/164 - 0s - loss: 0.1284 - val_loss: 0.1904\n",
      "Epoch 62/100\n",
      "164/164 - 0s - loss: 0.1216 - val_loss: 0.1962\n",
      "Epoch 63/100\n",
      "164/164 - 0s - loss: 0.1168 - val_loss: 0.1992\n",
      "Epoch 64/100\n",
      "164/164 - 0s - loss: 0.1098 - val_loss: 0.2013\n",
      "Epoch 65/100\n",
      "164/164 - 0s - loss: 0.1098 - val_loss: 0.1989\n",
      "Epoch 66/100\n",
      "164/164 - 0s - loss: 0.1318 - val_loss: 0.2038\n",
      "Epoch 67/100\n",
      "164/164 - 0s - loss: 0.1280 - val_loss: 0.1932\n",
      "Epoch 68/100\n",
      "164/164 - 0s - loss: 0.1144 - val_loss: 0.2243\n",
      "Epoch 69/100\n",
      "164/164 - 0s - loss: 0.1370 - val_loss: 0.2193\n",
      "Epoch 70/100\n",
      "164/164 - 0s - loss: 0.1153 - val_loss: 0.2011\n",
      "Epoch 71/100\n",
      "164/164 - 0s - loss: 0.1396 - val_loss: 0.2008\n",
      "Epoch 72/100\n",
      "164/164 - 0s - loss: 0.1084 - val_loss: 0.2056\n",
      "Epoch 73/100\n",
      "164/164 - 0s - loss: 0.1066 - val_loss: 0.2019\n",
      "Epoch 74/100\n",
      "164/164 - 0s - loss: 0.1060 - val_loss: 0.2091\n",
      "Epoch 75/100\n",
      "164/164 - 0s - loss: 0.1335 - val_loss: 0.2016\n",
      "Epoch 76/100\n",
      "164/164 - 0s - loss: 0.1080 - val_loss: 0.1988\n",
      "Epoch 77/100\n",
      "164/164 - 0s - loss: 0.1098 - val_loss: 0.1880\n",
      "Epoch 78/100\n",
      "164/164 - 0s - loss: 0.1138 - val_loss: 0.2167\n",
      "Epoch 79/100\n",
      "164/164 - 0s - loss: 0.1086 - val_loss: 0.1940\n",
      "Epoch 80/100\n",
      "164/164 - 0s - loss: 0.1065 - val_loss: 0.2255\n",
      "Epoch 81/100\n",
      "164/164 - 0s - loss: 0.1220 - val_loss: 0.2114\n",
      "Epoch 82/100\n",
      "164/164 - 0s - loss: 0.0988 - val_loss: 0.2118\n",
      "Epoch 83/100\n",
      "164/164 - 0s - loss: 0.0978 - val_loss: 0.2052\n",
      "Epoch 84/100\n",
      "164/164 - 0s - loss: 0.0954 - val_loss: 0.2075\n",
      "Epoch 85/100\n",
      "164/164 - 0s - loss: 0.0911 - val_loss: 0.2098\n",
      "Epoch 86/100\n",
      "164/164 - 0s - loss: 0.0960 - val_loss: 0.2018\n",
      "Epoch 87/100\n",
      "164/164 - 0s - loss: 0.0918 - val_loss: 0.2136\n",
      "Epoch 88/100\n",
      "164/164 - 0s - loss: 0.0949 - val_loss: 0.1941\n",
      "Epoch 89/100\n",
      "164/164 - 0s - loss: 0.0993 - val_loss: 0.1991\n",
      "Epoch 90/100\n",
      "164/164 - 0s - loss: 0.0892 - val_loss: 0.2074\n",
      "Epoch 91/100\n",
      "164/164 - 0s - loss: 0.0841 - val_loss: 0.1944\n",
      "Epoch 92/100\n",
      "164/164 - 0s - loss: 0.0816 - val_loss: 0.2202\n",
      "Epoch 93/100\n",
      "164/164 - 0s - loss: 0.0863 - val_loss: 0.2010\n",
      "Epoch 94/100\n",
      "164/164 - 0s - loss: 0.0917 - val_loss: 0.2300\n",
      "Epoch 95/100\n",
      "164/164 - 0s - loss: 0.0987 - val_loss: 0.2058\n",
      "Epoch 96/100\n",
      "164/164 - 0s - loss: 0.1025 - val_loss: 0.2155\n",
      "Epoch 97/100\n",
      "164/164 - 0s - loss: 0.1337 - val_loss: 0.2037\n",
      "Epoch 98/100\n",
      "164/164 - 0s - loss: 0.1180 - val_loss: 0.2048\n",
      "Epoch 99/100\n",
      "164/164 - 0s - loss: 0.1020 - val_loss: 0.1986\n",
      "Epoch 100/100\n",
      "164/164 - 0s - loss: 0.0899 - val_loss: 0.2052\n"
     ]
    },
    {
     "data": {
      "text/plain": [
       "<tensorflow.python.keras.callbacks.History at 0x2bcd1b396c8>"
      ]
     },
     "execution_count": 18,
     "metadata": {},
     "output_type": "execute_result"
    }
   ],
   "source": [
    "model.fit(X_train, y_train, validation_split=0.3, epochs=100, verbose=2)"
   ]
  },
  {
   "cell_type": "markdown",
   "metadata": {},
   "source": [
    "Let us print our loss."
   ]
  },
  {
   "cell_type": "code",
   "execution_count": 19,
   "metadata": {},
   "outputs": [
    {
     "name": "stdout",
     "output_type": "stream",
     "text": [
      "Loss: 0.2396451234817505\n"
     ]
    }
   ],
   "source": [
    "score = model.evaluate(X_test, y_test,verbose=0)\n",
    "print('Loss:',score)"
   ]
  },
  {
   "cell_type": "markdown",
   "metadata": {},
   "source": [
    "Our loss is 0.239."
   ]
  },
  {
   "cell_type": "markdown",
   "metadata": {},
   "source": [
    "Let us print predicted values."
   ]
  },
  {
   "cell_type": "code",
   "execution_count": 34,
   "metadata": {},
   "outputs": [
    {
     "data": {
      "text/plain": [
       "array([[ 0.41498017],\n",
       "       [-0.60156405],\n",
       "       [-1.2054727 ],\n",
       "       ...,\n",
       "       [-0.71864486],\n",
       "       [ 0.13518067],\n",
       "       [-0.25895363]], dtype=float32)"
      ]
     },
     "execution_count": 34,
     "metadata": {},
     "output_type": "execute_result"
    }
   ],
   "source": [
    "pred=model.predict(X_test)\n",
    "pred"
   ]
  },
  {
   "cell_type": "markdown",
   "metadata": {},
   "source": [
    "Let us display our outputs."
   ]
  },
  {
   "cell_type": "code",
   "execution_count": 44,
   "metadata": {},
   "outputs": [
    {
     "data": {
      "image/png": "[encoded data removed]",
      "text/plain": [
       "<Figure size 432x288 with 1 Axes>"
      ]
     },
     "metadata": {
      "needs_background": "light"
     },
     "output_type": "display_data"
    }
   ],
   "source": [
    "import matplotlib.pyplot as plt\n",
    "\n",
    "fig = plt.figure()\n",
    "ax1 = fig.add_subplot(111)\n",
    "ax1.scatter(X_test[:,0], y_test, s = 100, c = 'g', label = 'testing data')\n",
    "ax1.scatter(X_test[:,0], pred, s = 5, c = 'r', label = 'predicted data')\n",
    "plt.legend(loc='upper right');\n",
    "plt.show()"
   ]
  },
  {
   "cell_type": "code",
   "execution_count": null,
   "metadata": {},
   "outputs": [],
   "source": []
  }
 ],
 "metadata": {
  "kernelspec": {
   "display_name": "Python 3",
   "language": "python",
   "name": "python3"
  },
  "language_info": {
   "codemirror_mode": {
    "name": "ipython",
    "version": 3
   },
   "file_extension": ".py",
   "mimetype": "text/x-python",
   "name": "python",
   "nbconvert_exporter": "python",
   "pygments_lexer": "ipython3",
   "version": "3.7.4"
  }
 },
 "nbformat": 4,
 "nbformat_minor": 2
}
