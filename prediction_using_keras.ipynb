{
 "cells": [
  {
   "cell_type": "markdown",
   "metadata": {},
   "source": [
    "# Prediction using keras"
   ]
  },
  {
   "cell_type": "markdown",
   "metadata": {},
   "source": [
    "Let us import pandas to read our csv file."
   ]
  },
  {
   "cell_type": "code",
   "execution_count": 1,
   "metadata": {},
   "outputs": [],
   "source": [
    "import pandas as pd"
   ]
  },
  {
   "cell_type": "code",
   "execution_count": 2,
   "metadata": {},
   "outputs": [],
   "source": [
    "df=pd.read_csv('Dataset/train_clean_data.csv')"
   ]
  },
  {
   "cell_type": "code",
   "execution_count": 3,
   "metadata": {},
   "outputs": [
    {
     "data": {
      "text/html": [
       "<div>\n",
       "<style scoped>\n",
       "    .dataframe tbody tr th:only-of-type {\n",
       "        vertical-align: middle;\n",
       "    }\n",
       "\n",
       "    .dataframe tbody tr th {\n",
       "        vertical-align: top;\n",
       "    }\n",
       "\n",
       "    .dataframe thead th {\n",
       "        text-align: right;\n",
       "    }\n",
       "</style>\n",
       "<table border=\"1\" class=\"dataframe\">\n",
       "  <thead>\n",
       "    <tr style=\"text-align: right;\">\n",
       "      <th></th>\n",
       "      <th>Total_Stops</th>\n",
       "      <th>Price</th>\n",
       "      <th>Journey_Month</th>\n",
       "      <th>Journey_Day</th>\n",
       "      <th>Dep_hour</th>\n",
       "      <th>Dep_min</th>\n",
       "      <th>Arrival_hour</th>\n",
       "      <th>Arrival_min</th>\n",
       "      <th>Duration_hour</th>\n",
       "      <th>Duration_min</th>\n",
       "      <th>...</th>\n",
       "      <th>Airline_Vistara Premium economy</th>\n",
       "      <th>Source_Chennai</th>\n",
       "      <th>Source_Delhi</th>\n",
       "      <th>Source_Kolkata</th>\n",
       "      <th>Source_Mumbai</th>\n",
       "      <th>Destination_Cochin</th>\n",
       "      <th>Destination_Delhi</th>\n",
       "      <th>Destination_Hyderabad</th>\n",
       "      <th>Destination_Kolkata</th>\n",
       "      <th>Destination_New Delhi</th>\n",
       "    </tr>\n",
       "  </thead>\n",
       "  <tbody>\n",
       "    <tr>\n",
       "      <td>0</td>\n",
       "      <td>0</td>\n",
       "      <td>3897</td>\n",
       "      <td>3</td>\n",
       "      <td>24</td>\n",
       "      <td>22</td>\n",
       "      <td>20</td>\n",
       "      <td>1</td>\n",
       "      <td>10</td>\n",
       "      <td>2</td>\n",
       "      <td>50</td>\n",
       "      <td>...</td>\n",
       "      <td>0</td>\n",
       "      <td>0</td>\n",
       "      <td>0</td>\n",
       "      <td>0</td>\n",
       "      <td>0</td>\n",
       "      <td>0</td>\n",
       "      <td>0</td>\n",
       "      <td>0</td>\n",
       "      <td>0</td>\n",
       "      <td>1</td>\n",
       "    </tr>\n",
       "    <tr>\n",
       "      <td>1</td>\n",
       "      <td>2</td>\n",
       "      <td>7662</td>\n",
       "      <td>5</td>\n",
       "      <td>1</td>\n",
       "      <td>5</td>\n",
       "      <td>50</td>\n",
       "      <td>13</td>\n",
       "      <td>15</td>\n",
       "      <td>7</td>\n",
       "      <td>25</td>\n",
       "      <td>...</td>\n",
       "      <td>0</td>\n",
       "      <td>0</td>\n",
       "      <td>0</td>\n",
       "      <td>1</td>\n",
       "      <td>0</td>\n",
       "      <td>0</td>\n",
       "      <td>0</td>\n",
       "      <td>0</td>\n",
       "      <td>0</td>\n",
       "      <td>0</td>\n",
       "    </tr>\n",
       "    <tr>\n",
       "      <td>2</td>\n",
       "      <td>2</td>\n",
       "      <td>13882</td>\n",
       "      <td>6</td>\n",
       "      <td>9</td>\n",
       "      <td>9</td>\n",
       "      <td>25</td>\n",
       "      <td>4</td>\n",
       "      <td>25</td>\n",
       "      <td>19</td>\n",
       "      <td>0</td>\n",
       "      <td>...</td>\n",
       "      <td>0</td>\n",
       "      <td>0</td>\n",
       "      <td>1</td>\n",
       "      <td>0</td>\n",
       "      <td>0</td>\n",
       "      <td>1</td>\n",
       "      <td>0</td>\n",
       "      <td>0</td>\n",
       "      <td>0</td>\n",
       "      <td>0</td>\n",
       "    </tr>\n",
       "    <tr>\n",
       "      <td>3</td>\n",
       "      <td>1</td>\n",
       "      <td>6218</td>\n",
       "      <td>5</td>\n",
       "      <td>12</td>\n",
       "      <td>18</td>\n",
       "      <td>5</td>\n",
       "      <td>23</td>\n",
       "      <td>30</td>\n",
       "      <td>5</td>\n",
       "      <td>25</td>\n",
       "      <td>...</td>\n",
       "      <td>0</td>\n",
       "      <td>0</td>\n",
       "      <td>0</td>\n",
       "      <td>1</td>\n",
       "      <td>0</td>\n",
       "      <td>0</td>\n",
       "      <td>0</td>\n",
       "      <td>0</td>\n",
       "      <td>0</td>\n",
       "      <td>0</td>\n",
       "    </tr>\n",
       "    <tr>\n",
       "      <td>4</td>\n",
       "      <td>1</td>\n",
       "      <td>13302</td>\n",
       "      <td>3</td>\n",
       "      <td>1</td>\n",
       "      <td>16</td>\n",
       "      <td>50</td>\n",
       "      <td>21</td>\n",
       "      <td>35</td>\n",
       "      <td>4</td>\n",
       "      <td>45</td>\n",
       "      <td>...</td>\n",
       "      <td>0</td>\n",
       "      <td>0</td>\n",
       "      <td>0</td>\n",
       "      <td>0</td>\n",
       "      <td>0</td>\n",
       "      <td>0</td>\n",
       "      <td>0</td>\n",
       "      <td>0</td>\n",
       "      <td>0</td>\n",
       "      <td>1</td>\n",
       "    </tr>\n",
       "  </tbody>\n",
       "</table>\n",
       "<p>5 rows × 29 columns</p>\n",
       "</div>"
      ],
      "text/plain": [
       "   Total_Stops  Price  Journey_Month  Journey_Day  Dep_hour  Dep_min  \\\n",
       "0            0   3897              3           24        22       20   \n",
       "1            2   7662              5            1         5       50   \n",
       "2            2  13882              6            9         9       25   \n",
       "3            1   6218              5           12        18        5   \n",
       "4            1  13302              3            1        16       50   \n",
       "\n",
       "   Arrival_hour  Arrival_min  Duration_hour  Duration_min  ...  \\\n",
       "0             1           10              2            50  ...   \n",
       "1            13           15              7            25  ...   \n",
       "2             4           25             19             0  ...   \n",
       "3            23           30              5            25  ...   \n",
       "4            21           35              4            45  ...   \n",
       "\n",
       "   Airline_Vistara Premium economy  Source_Chennai  Source_Delhi  \\\n",
       "0                                0               0             0   \n",
       "1                                0               0             0   \n",
       "2                                0               0             1   \n",
       "3                                0               0             0   \n",
       "4                                0               0             0   \n",
       "\n",
       "   Source_Kolkata  Source_Mumbai  Destination_Cochin  Destination_Delhi  \\\n",
       "0               0              0                   0                  0   \n",
       "1               1              0                   0                  0   \n",
       "2               0              0                   1                  0   \n",
       "3               1              0                   0                  0   \n",
       "4               0              0                   0                  0   \n",
       "\n",
       "   Destination_Hyderabad  Destination_Kolkata  Destination_New Delhi  \n",
       "0                      0                    0                      1  \n",
       "1                      0                    0                      0  \n",
       "2                      0                    0                      0  \n",
       "3                      0                    0                      0  \n",
       "4                      0                    0                      1  \n",
       "\n",
       "[5 rows x 29 columns]"
      ]
     },
     "execution_count": 3,
     "metadata": {},
     "output_type": "execute_result"
    }
   ],
   "source": [
    "df.head()"
   ]
  },
  {
   "cell_type": "markdown",
   "metadata": {},
   "source": [
    "Let us assign price as output and rest all of the columns as input."
   ]
  },
  {
   "cell_type": "code",
   "execution_count": 4,
   "metadata": {},
   "outputs": [],
   "source": [
    "X=df.drop(['Price'],axis=1)\n",
    "y=df[['Price']]\n",
    "X=X.iloc[:,:].values\n",
    "y=y.iloc[:,:].values"
   ]
  },
  {
   "cell_type": "code",
   "execution_count": 5,
   "metadata": {},
   "outputs": [
    {
     "data": {
      "text/plain": [
       "array([[ 0,  3, 24, ...,  0,  0,  1],\n",
       "       [ 2,  5,  1, ...,  0,  0,  0],\n",
       "       [ 2,  6,  9, ...,  0,  0,  0],\n",
       "       ...,\n",
       "       [ 0,  4, 27, ...,  0,  0,  0],\n",
       "       [ 0,  3,  1, ...,  0,  0,  1],\n",
       "       [ 2,  5,  9, ...,  0,  0,  0]], dtype=int64)"
      ]
     },
     "execution_count": 5,
     "metadata": {},
     "output_type": "execute_result"
    }
   ],
   "source": [
    "X"
   ]
  },
  {
   "cell_type": "code",
   "execution_count": 6,
   "metadata": {},
   "outputs": [
    {
     "data": {
      "text/plain": [
       "(10681, 28)"
      ]
     },
     "execution_count": 6,
     "metadata": {},
     "output_type": "execute_result"
    }
   ],
   "source": [
    "X.shape"
   ]
  },
  {
   "cell_type": "code",
   "execution_count": 7,
   "metadata": {},
   "outputs": [
    {
     "data": {
      "text/plain": [
       "array([[ 3897],\n",
       "       [ 7662],\n",
       "       [13882],\n",
       "       ...,\n",
       "       [ 7229],\n",
       "       [12648],\n",
       "       [11753]], dtype=int64)"
      ]
     },
     "execution_count": 7,
     "metadata": {},
     "output_type": "execute_result"
    }
   ],
   "source": [
    "y"
   ]
  },
  {
   "cell_type": "code",
   "execution_count": 8,
   "metadata": {},
   "outputs": [
    {
     "data": {
      "text/plain": [
       "(10681, 1)"
      ]
     },
     "execution_count": 8,
     "metadata": {},
     "output_type": "execute_result"
    }
   ],
   "source": [
    "y.shape"
   ]
  },
  {
   "cell_type": "markdown",
   "metadata": {},
   "source": [
    "Let us normalize our input and output."
   ]
  },
  {
   "cell_type": "code",
   "execution_count": 9,
   "metadata": {},
   "outputs": [],
   "source": [
    "# data normalization with sklearn\n",
    "from sklearn.preprocessing import MinMaxScaler,StandardScaler\n",
    "\n",
    "scaler = StandardScaler() \n",
    "X_scaled = scaler.fit_transform(X)\n",
    "y_scaled = scaler.fit_transform(y)\n"
   ]
  },
  {
   "cell_type": "code",
   "execution_count": 10,
   "metadata": {},
   "outputs": [
    {
     "data": {
      "text/plain": [
       "array([[-1.22058845, -1.46761891,  1.23719214, ..., -0.26401621,\n",
       "        -0.1923286 ,  3.23423877],\n",
       "       [ 1.74138025,  0.25016506, -1.47537531, ..., -0.26401621,\n",
       "        -0.1923286 , -0.30919177],\n",
       "       [ 1.74138025,  1.10905704, -0.53187359, ..., -0.26401621,\n",
       "        -0.1923286 , -0.30919177],\n",
       "       ...,\n",
       "       [-1.22058845, -0.60872693,  1.59100529, ..., -0.26401621,\n",
       "        -0.1923286 , -0.30919177],\n",
       "       [-1.22058845, -1.46761891, -1.47537531, ..., -0.26401621,\n",
       "        -0.1923286 ,  3.23423877],\n",
       "       [ 1.74138025,  0.25016506, -0.53187359, ..., -0.26401621,\n",
       "        -0.1923286 , -0.30919177]])"
      ]
     },
     "execution_count": 10,
     "metadata": {},
     "output_type": "execute_result"
    }
   ],
   "source": [
    "X_scaled"
   ]
  },
  {
   "cell_type": "code",
   "execution_count": 11,
   "metadata": {},
   "outputs": [
    {
     "data": {
      "text/plain": [
       "array([[-1.12564296],\n",
       "       [-0.30917044],\n",
       "       [ 1.03968987],\n",
       "       ...,\n",
       "       [-0.4030702 ],\n",
       "       [ 0.7720864 ],\n",
       "       [ 0.57799797]])"
      ]
     },
     "execution_count": 11,
     "metadata": {},
     "output_type": "execute_result"
    }
   ],
   "source": [
    "y_scaled"
   ]
  },
  {
   "cell_type": "markdown",
   "metadata": {},
   "source": [
    "Let us import Sequential for declaring our model and Dense to specify number of layers."
   ]
  },
  {
   "cell_type": "code",
   "execution_count": 28,
   "metadata": {},
   "outputs": [],
   "source": [
    "from tensorflow.keras.models import Sequential\n",
    "from tensorflow.keras.layers import Dense"
   ]
  },
  {
   "cell_type": "code",
   "execution_count": 29,
   "metadata": {},
   "outputs": [
    {
     "name": "stdout",
     "output_type": "stream",
     "text": [
      "Collecting tensorflowjs\n",
      "  Downloading tensorflowjs-3.8.0-py3-none-any.whl (64 kB)\n",
      "Collecting tensorflow-hub<0.13,>=0.7.0\n",
      "  Downloading tensorflow_hub-0.12.0-py2.py3-none-any.whl (108 kB)\n",
      "Requirement already satisfied: six<2,>=1.12.0 in c:\\users\\user\\anaconda3\\lib\\site-packages (from tensorflowjs) (1.15.0)\n",
      "Requirement already satisfied: tensorflow<3,>=2.1.0 in c:\\users\\user\\anaconda3\\lib\\site-packages (from tensorflowjs) (2.2.0)\n",
      "Requirement already satisfied: opt-einsum>=2.3.2 in c:\\users\\user\\anaconda3\\lib\\site-packages (from tensorflow<3,>=2.1.0->tensorflowjs) (3.3.0)\n",
      "Requirement already satisfied: tensorflow-estimator<2.3.0,>=2.2.0 in c:\\users\\user\\anaconda3\\lib\\site-packages (from tensorflow<3,>=2.1.0->tensorflowjs) (2.2.0)\n",
      "Requirement already satisfied: grpcio>=1.8.6 in c:\\users\\user\\anaconda3\\lib\\site-packages (from tensorflow<3,>=2.1.0->tensorflowjs) (1.24.3)\n",
      "Requirement already satisfied: google-pasta>=0.1.8 in c:\\users\\user\\anaconda3\\lib\\site-packages (from tensorflow<3,>=2.1.0->tensorflowjs) (0.2.0)\n",
      "Requirement already satisfied: gast==0.3.3 in c:\\users\\user\\anaconda3\\lib\\site-packages (from tensorflow<3,>=2.1.0->tensorflowjs) (0.3.3)\n",
      "Requirement already satisfied: keras-preprocessing>=1.1.0 in c:\\users\\user\\anaconda3\\lib\\site-packages (from tensorflow<3,>=2.1.0->tensorflowjs) (1.1.2)\n",
      "Requirement already satisfied: protobuf>=3.8.0 in c:\\users\\user\\anaconda3\\lib\\site-packages (from tensorflow<3,>=2.1.0->tensorflowjs) (3.14.0)\n",
      "Requirement already satisfied: tensorboard<2.3.0,>=2.2.0 in c:\\users\\user\\anaconda3\\lib\\site-packages (from tensorflow<3,>=2.1.0->tensorflowjs) (2.2.2)\n",
      "Requirement already satisfied: wrapt>=1.11.1 in c:\\users\\user\\anaconda3\\lib\\site-packages (from tensorflow<3,>=2.1.0->tensorflowjs) (1.11.2)\n",
      "Requirement already satisfied: absl-py>=0.7.0 in c:\\users\\user\\anaconda3\\lib\\site-packages (from tensorflow<3,>=2.1.0->tensorflowjs) (0.12.0)\n",
      "Requirement already satisfied: termcolor>=1.1.0 in c:\\users\\user\\anaconda3\\lib\\site-packages (from tensorflow<3,>=2.1.0->tensorflowjs) (1.1.0)\n",
      "Requirement already satisfied: wheel>=0.26 in c:\\users\\user\\anaconda3\\lib\\site-packages (from tensorflow<3,>=2.1.0->tensorflowjs) (0.36.2)\n",
      "Requirement already satisfied: astunparse==1.6.3 in c:\\users\\user\\anaconda3\\lib\\site-packages (from tensorflow<3,>=2.1.0->tensorflowjs) (1.6.3)\n",
      "Requirement already satisfied: numpy<2.0,>=1.16.0 in c:\\users\\user\\anaconda3\\lib\\site-packages (from tensorflow<3,>=2.1.0->tensorflowjs) (1.19.5)\n",
      "Requirement already satisfied: scipy==1.4.1 in c:\\users\\user\\anaconda3\\lib\\site-packages (from tensorflow<3,>=2.1.0->tensorflowjs) (1.4.1)\n",
      "Requirement already satisfied: h5py<2.11.0,>=2.10.0 in c:\\users\\user\\anaconda3\\lib\\site-packages (from tensorflow<3,>=2.1.0->tensorflowjs) (2.10.0)\n",
      "Requirement already satisfied: markdown>=2.6.8 in c:\\users\\user\\anaconda3\\lib\\site-packages (from tensorboard<2.3.0,>=2.2.0->tensorflow<3,>=2.1.0->tensorflowjs) (3.3.4)\n",
      "Requirement already satisfied: requests<3,>=2.21.0 in c:\\users\\user\\anaconda3\\lib\\site-packages (from tensorboard<2.3.0,>=2.2.0->tensorflow<3,>=2.1.0->tensorflowjs) (2.22.0)\n",
      "Requirement already satisfied: setuptools>=41.0.0 in c:\\users\\user\\anaconda3\\lib\\site-packages (from tensorboard<2.3.0,>=2.2.0->tensorflow<3,>=2.1.0->tensorflowjs) (41.4.0)\n",
      "Requirement already satisfied: google-auth<2,>=1.6.3 in c:\\users\\user\\anaconda3\\lib\\site-packages (from tensorboard<2.3.0,>=2.2.0->tensorflow<3,>=2.1.0->tensorflowjs) (1.28.0)\n",
      "Requirement already satisfied: werkzeug>=0.11.15 in c:\\users\\user\\anaconda3\\lib\\site-packages (from tensorboard<2.3.0,>=2.2.0->tensorflow<3,>=2.1.0->tensorflowjs) (0.16.0)\n",
      "Requirement already satisfied: tensorboard-plugin-wit>=1.6.0 in c:\\users\\user\\anaconda3\\lib\\site-packages (from tensorboard<2.3.0,>=2.2.0->tensorflow<3,>=2.1.0->tensorflowjs) (1.6.0)\n",
      "Requirement already satisfied: google-auth-oauthlib<0.5,>=0.4.1 in c:\\users\\user\\anaconda3\\lib\\site-packages (from tensorboard<2.3.0,>=2.2.0->tensorflow<3,>=2.1.0->tensorflowjs) (0.4.2)\n",
      "Requirement already satisfied: cachetools<5.0,>=2.0.0 in c:\\users\\user\\anaconda3\\lib\\site-packages (from google-auth<2,>=1.6.3->tensorboard<2.3.0,>=2.2.0->tensorflow<3,>=2.1.0->tensorflowjs) (4.2.2)\n",
      "Requirement already satisfied: pyasn1-modules>=0.2.1 in c:\\users\\user\\anaconda3\\lib\\site-packages (from google-auth<2,>=1.6.3->tensorboard<2.3.0,>=2.2.0->tensorflow<3,>=2.1.0->tensorflowjs) (0.2.8)\n",
      "Requirement already satisfied: rsa<5,>=3.1.4 in c:\\users\\user\\anaconda3\\lib\\site-packages (from google-auth<2,>=1.6.3->tensorboard<2.3.0,>=2.2.0->tensorflow<3,>=2.1.0->tensorflowjs) (4.7.2)\n",
      "Requirement already satisfied: requests-oauthlib>=0.7.0 in c:\\users\\user\\anaconda3\\lib\\site-packages (from google-auth-oauthlib<0.5,>=0.4.1->tensorboard<2.3.0,>=2.2.0->tensorflow<3,>=2.1.0->tensorflowjs) (1.3.0)\n",
      "Requirement already satisfied: importlib-metadata in c:\\users\\user\\anaconda3\\lib\\site-packages (from markdown>=2.6.8->tensorboard<2.3.0,>=2.2.0->tensorflow<3,>=2.1.0->tensorflowjs) (3.10.0)\n",
      "Requirement already satisfied: pyasn1<0.5.0,>=0.4.6 in c:\\users\\user\\anaconda3\\lib\\site-packages (from pyasn1-modules>=0.2.1->google-auth<2,>=1.6.3->tensorboard<2.3.0,>=2.2.0->tensorflow<3,>=2.1.0->tensorflowjs) (0.4.8)\n",
      "Requirement already satisfied: urllib3!=1.25.0,!=1.25.1,<1.26,>=1.21.1 in c:\\users\\user\\anaconda3\\lib\\site-packages (from requests<3,>=2.21.0->tensorboard<2.3.0,>=2.2.0->tensorflow<3,>=2.1.0->tensorflowjs) (1.24.2)\n",
      "Requirement already satisfied: certifi>=2017.4.17 in c:\\users\\user\\anaconda3\\lib\\site-packages (from requests<3,>=2.21.0->tensorboard<2.3.0,>=2.2.0->tensorflow<3,>=2.1.0->tensorflowjs) (2019.9.11)\n",
      "Requirement already satisfied: idna<2.9,>=2.5 in c:\\users\\user\\anaconda3\\lib\\site-packages (from requests<3,>=2.21.0->tensorboard<2.3.0,>=2.2.0->tensorflow<3,>=2.1.0->tensorflowjs) (2.8)\n",
      "Requirement already satisfied: chardet<3.1.0,>=3.0.2 in c:\\users\\user\\anaconda3\\lib\\site-packages (from requests<3,>=2.21.0->tensorboard<2.3.0,>=2.2.0->tensorflow<3,>=2.1.0->tensorflowjs) (3.0.4)\n",
      "Requirement already satisfied: oauthlib>=3.0.0 in c:\\users\\user\\anaconda3\\lib\\site-packages (from requests-oauthlib>=0.7.0->google-auth-oauthlib<0.5,>=0.4.1->tensorboard<2.3.0,>=2.2.0->tensorflow<3,>=2.1.0->tensorflowjs) (3.1.0)\n",
      "Requirement already satisfied: typing-extensions>=3.6.4 in c:\\users\\user\\anaconda3\\lib\\site-packages (from importlib-metadata->markdown>=2.6.8->tensorboard<2.3.0,>=2.2.0->tensorflow<3,>=2.1.0->tensorflowjs) (3.7.4.3)\n",
      "Requirement already satisfied: zipp>=0.5 in c:\\users\\user\\anaconda3\\lib\\site-packages (from importlib-metadata->markdown>=2.6.8->tensorboard<2.3.0,>=2.2.0->tensorflow<3,>=2.1.0->tensorflowjs) (0.6.0)\n",
      "Requirement already satisfied: more-itertools in c:\\users\\user\\anaconda3\\lib\\site-packages (from zipp>=0.5->importlib-metadata->markdown>=2.6.8->tensorboard<2.3.0,>=2.2.0->tensorflow<3,>=2.1.0->tensorflowjs) (7.2.0)\n",
      "Installing collected packages: tensorflow-hub, tensorflowjs\n",
      "Successfully installed tensorflow-hub-0.12.0 tensorflowjs-3.8.0\n"
     ]
    },
    {
     "name": "stderr",
     "output_type": "stream",
     "text": [
      "WARNING: Ignoring invalid distribution -umpy (c:\\users\\user\\anaconda3\\lib\\site-packages)\n",
      "WARNING: Ignoring invalid distribution -cipy (c:\\users\\user\\anaconda3\\lib\\site-packages)\n",
      "WARNING: Ignoring invalid distribution -umpy (c:\\users\\user\\anaconda3\\lib\\site-packages)\n",
      "WARNING: Ignoring invalid distribution -cipy (c:\\users\\user\\anaconda3\\lib\\site-packages)\n",
      "WARNING: Ignoring invalid distribution -umpy (c:\\users\\user\\anaconda3\\lib\\site-packages)\n",
      "WARNING: Ignoring invalid distribution -cipy (c:\\users\\user\\anaconda3\\lib\\site-packages)\n",
      "WARNING: Ignoring invalid distribution -umpy (c:\\users\\user\\anaconda3\\lib\\site-packages)\n",
      "WARNING: Ignoring invalid distribution -cipy (c:\\users\\user\\anaconda3\\lib\\site-packages)\n",
      "WARNING: Ignoring invalid distribution -umpy (c:\\users\\user\\anaconda3\\lib\\site-packages)\n",
      "WARNING: Ignoring invalid distribution -cipy (c:\\users\\user\\anaconda3\\lib\\site-packages)\n",
      "WARNING: Ignoring invalid distribution -umpy (c:\\users\\user\\anaconda3\\lib\\site-packages)\n",
      "WARNING: Ignoring invalid distribution -cipy (c:\\users\\user\\anaconda3\\lib\\site-packages)\n",
      "WARNING: Ignoring invalid distribution -umpy (c:\\users\\user\\anaconda3\\lib\\site-packages)\n",
      "WARNING: Ignoring invalid distribution -cipy (c:\\users\\user\\anaconda3\\lib\\site-packages)\n",
      "WARNING: Ignoring invalid distribution -umpy (c:\\users\\user\\anaconda3\\lib\\site-packages)\n",
      "WARNING: Ignoring invalid distribution -cipy (c:\\users\\user\\anaconda3\\lib\\site-packages)\n",
      "WARNING: You are using pip version 21.1.2; however, version 21.2.3 is available.\n",
      "You should consider upgrading via the 'C:\\Users\\User\\Anaconda3\\python.exe -m pip install --upgrade pip' command.\n"
     ]
    }
   ],
   "source": [
    "import sys\n",
    "!{sys.executable} -m pip install tensorflowjs"
   ]
  },
  {
   "cell_type": "code",
   "execution_count": 30,
   "metadata": {},
   "outputs": [],
   "source": [
    "import tensorflowjs as tfjs"
   ]
  },
  {
   "cell_type": "markdown",
   "metadata": {},
   "source": [
    "Let us define keras model with 18 layers with input layer having 256 nodes, optimizer adam and loss mean_squared_error for regression."
   ]
  },
  {
   "cell_type": "code",
   "execution_count": 31,
   "metadata": {},
   "outputs": [],
   "source": [
    "def regression_model():\n",
    "    # create model\n",
    "    model = Sequential()\n",
    "    model.add(Dense(256, activation='relu', input_shape=(28,)))\n",
    "    model.add(Dense(64, activation='relu'))\n",
    "    model.add(Dense(32, activation='relu'))\n",
    "    model.add(Dense(32, activation='relu'))\n",
    "    model.add(Dense(32, activation='relu'))\n",
    "    model.add(Dense(32, activation='relu'))\n",
    "    model.add(Dense(32, activation='relu'))\n",
    "    model.add(Dense(32, activation='relu'))\n",
    "    model.add(Dense(32, activation='relu'))\n",
    "    model.add(Dense(32, activation='relu'))\n",
    "    model.add(Dense(32, activation='relu'))\n",
    "    model.add(Dense(32, activation='relu'))\n",
    "    model.add(Dense(32, activation='relu'))\n",
    "    model.add(Dense(32, activation='relu'))\n",
    "    model.add(Dense(32, activation='relu'))\n",
    "    model.add(Dense(32, activation='relu'))\n",
    "    model.add(Dense(32, activation='relu'))\n",
    "    model.add(Dense(1))\n",
    "    \n",
    "    # compile model\n",
    "    model.compile(optimizer='adam', loss='mean_squared_error')\n",
    "    return model"
   ]
  },
  {
   "cell_type": "code",
   "execution_count": 32,
   "metadata": {},
   "outputs": [],
   "source": [
    "model = regression_model()"
   ]
  },
  {
   "cell_type": "markdown",
   "metadata": {},
   "source": [
    "Let us fit our training data."
   ]
  },
  {
   "cell_type": "code",
   "execution_count": 33,
   "metadata": {},
   "outputs": [
    {
     "name": "stdout",
     "output_type": "stream",
     "text": [
      "Epoch 1/100\n",
      "234/234 - 2s - loss: 0.5185 - val_loss: 0.3580\n",
      "Epoch 2/100\n",
      "234/234 - 1s - loss: 0.3296 - val_loss: 0.3264\n",
      "Epoch 3/100\n",
      "234/234 - 1s - loss: 0.3491 - val_loss: 0.2759\n",
      "Epoch 4/100\n",
      "234/234 - 1s - loss: 0.2976 - val_loss: 0.3538\n",
      "Epoch 5/100\n",
      "234/234 - 1s - loss: 0.2858 - val_loss: 0.2250\n",
      "Epoch 6/100\n",
      "234/234 - 1s - loss: 0.2668 - val_loss: 0.2596\n",
      "Epoch 7/100\n",
      "234/234 - 1s - loss: 0.2346 - val_loss: 0.3298\n",
      "Epoch 8/100\n",
      "234/234 - 1s - loss: 0.2784 - val_loss: 0.2146\n",
      "Epoch 9/100\n",
      "234/234 - 1s - loss: 0.2112 - val_loss: 0.3351\n",
      "Epoch 10/100\n",
      "234/234 - 1s - loss: 0.2851 - val_loss: 0.2594\n",
      "Epoch 11/100\n",
      "234/234 - 1s - loss: 0.2199 - val_loss: 0.2142\n",
      "Epoch 12/100\n",
      "234/234 - 1s - loss: 0.2108 - val_loss: 0.2328\n",
      "Epoch 13/100\n",
      "234/234 - 1s - loss: 0.1999 - val_loss: 0.2233\n",
      "Epoch 14/100\n",
      "234/234 - 1s - loss: 0.1872 - val_loss: 0.2632\n",
      "Epoch 15/100\n",
      "234/234 - 1s - loss: 0.2495 - val_loss: 0.2424\n",
      "Epoch 16/100\n",
      "234/234 - 1s - loss: 0.2273 - val_loss: 0.2109\n",
      "Epoch 17/100\n",
      "234/234 - 1s - loss: 0.1991 - val_loss: 0.2142\n",
      "Epoch 18/100\n",
      "234/234 - 1s - loss: 0.1748 - val_loss: 0.3649\n",
      "Epoch 19/100\n",
      "234/234 - 1s - loss: 0.2390 - val_loss: 0.2203\n",
      "Epoch 20/100\n",
      "234/234 - 1s - loss: 0.1865 - val_loss: 0.2268\n",
      "Epoch 21/100\n",
      "234/234 - 1s - loss: 0.1853 - val_loss: 0.1919\n",
      "Epoch 22/100\n",
      "234/234 - 1s - loss: 0.1627 - val_loss: 0.2611\n",
      "Epoch 23/100\n",
      "234/234 - 1s - loss: 0.2404 - val_loss: 0.2368\n",
      "Epoch 24/100\n",
      "234/234 - 1s - loss: 0.1890 - val_loss: 0.1985\n",
      "Epoch 25/100\n",
      "234/234 - 1s - loss: 0.1453 - val_loss: 0.1915\n",
      "Epoch 26/100\n",
      "234/234 - 1s - loss: 0.2237 - val_loss: 0.2300\n",
      "Epoch 27/100\n",
      "234/234 - 1s - loss: 0.1906 - val_loss: 0.1991\n",
      "Epoch 28/100\n",
      "234/234 - 1s - loss: 0.1644 - val_loss: 0.1952\n",
      "Epoch 29/100\n",
      "234/234 - 1s - loss: 0.1541 - val_loss: 0.2103\n",
      "Epoch 30/100\n",
      "234/234 - 1s - loss: 0.1517 - val_loss: 0.1871\n",
      "Epoch 31/100\n",
      "234/234 - 1s - loss: 0.1678 - val_loss: 0.2088\n",
      "Epoch 32/100\n",
      "234/234 - 1s - loss: 0.1754 - val_loss: 0.2182\n",
      "Epoch 33/100\n",
      "234/234 - 1s - loss: 0.1643 - val_loss: 0.1924\n",
      "Epoch 34/100\n",
      "234/234 - 1s - loss: 0.1473 - val_loss: 0.2016\n",
      "Epoch 35/100\n",
      "234/234 - 1s - loss: 0.1525 - val_loss: 0.1853\n",
      "Epoch 36/100\n",
      "234/234 - 1s - loss: 0.1421 - val_loss: 0.1815\n",
      "Epoch 37/100\n",
      "234/234 - 1s - loss: 0.1328 - val_loss: 0.2007\n",
      "Epoch 38/100\n",
      "234/234 - 1s - loss: 0.1321 - val_loss: 0.2079\n",
      "Epoch 39/100\n",
      "234/234 - 1s - loss: 0.1296 - val_loss: 0.1984\n",
      "Epoch 40/100\n",
      "234/234 - 1s - loss: 0.1423 - val_loss: 0.1922\n",
      "Epoch 41/100\n",
      "234/234 - 1s - loss: 0.1343 - val_loss: 0.2155\n",
      "Epoch 42/100\n",
      "234/234 - 1s - loss: 0.1282 - val_loss: 0.2091\n",
      "Epoch 43/100\n",
      "234/234 - 1s - loss: 0.1314 - val_loss: 0.1855\n",
      "Epoch 44/100\n",
      "234/234 - 1s - loss: 0.1287 - val_loss: 0.1836\n",
      "Epoch 45/100\n",
      "234/234 - 1s - loss: 0.1190 - val_loss: 0.1900\n",
      "Epoch 46/100\n",
      "234/234 - 1s - loss: 0.1245 - val_loss: 0.1844\n",
      "Epoch 47/100\n",
      "234/234 - 1s - loss: 0.1308 - val_loss: 0.2533\n",
      "Epoch 48/100\n",
      "234/234 - 1s - loss: 0.1357 - val_loss: 0.1932\n",
      "Epoch 49/100\n",
      "234/234 - 1s - loss: 0.1183 - val_loss: 0.2040\n",
      "Epoch 50/100\n",
      "234/234 - 1s - loss: 0.1176 - val_loss: 0.1850\n",
      "Epoch 51/100\n",
      "234/234 - 1s - loss: 0.1228 - val_loss: 0.1916\n",
      "Epoch 52/100\n",
      "234/234 - 1s - loss: 0.1172 - val_loss: 0.1912\n",
      "Epoch 53/100\n",
      "234/234 - 1s - loss: 0.1386 - val_loss: 0.1869\n",
      "Epoch 54/100\n",
      "234/234 - 1s - loss: 0.1257 - val_loss: 0.1849\n",
      "Epoch 55/100\n",
      "234/234 - 1s - loss: 0.1266 - val_loss: 0.1773\n",
      "Epoch 56/100\n",
      "234/234 - 1s - loss: 0.1195 - val_loss: 0.2314\n",
      "Epoch 57/100\n",
      "234/234 - 1s - loss: 0.1242 - val_loss: 0.1853\n",
      "Epoch 58/100\n",
      "234/234 - 1s - loss: 0.1019 - val_loss: 0.1714\n",
      "Epoch 59/100\n",
      "234/234 - 1s - loss: 0.1078 - val_loss: 0.2171\n",
      "Epoch 60/100\n",
      "234/234 - 1s - loss: 0.1080 - val_loss: 0.2012\n",
      "Epoch 61/100\n",
      "234/234 - 1s - loss: 0.1151 - val_loss: 0.1724\n",
      "Epoch 62/100\n",
      "234/234 - 1s - loss: 0.1365 - val_loss: 0.1849\n",
      "Epoch 63/100\n",
      "234/234 - 1s - loss: 0.1493 - val_loss: 0.1819\n",
      "Epoch 64/100\n",
      "234/234 - 1s - loss: 0.1193 - val_loss: 0.1826\n",
      "Epoch 65/100\n",
      "234/234 - 1s - loss: 0.1069 - val_loss: 0.2103\n",
      "Epoch 66/100\n",
      "234/234 - 1s - loss: 0.1255 - val_loss: 0.1906\n",
      "Epoch 67/100\n",
      "234/234 - 1s - loss: 0.1218 - val_loss: 0.1752\n",
      "Epoch 68/100\n",
      "234/234 - 1s - loss: 0.1153 - val_loss: 0.1857\n",
      "Epoch 69/100\n",
      "234/234 - 1s - loss: 0.1097 - val_loss: 0.1801\n",
      "Epoch 70/100\n",
      "234/234 - 1s - loss: 0.1153 - val_loss: 0.1923\n",
      "Epoch 71/100\n",
      "234/234 - 1s - loss: 0.1050 - val_loss: 0.1766\n",
      "Epoch 72/100\n",
      "234/234 - 1s - loss: 0.1015 - val_loss: 0.1879\n",
      "Epoch 73/100\n",
      "234/234 - 1s - loss: 0.1120 - val_loss: 0.1942\n",
      "Epoch 74/100\n",
      "234/234 - 1s - loss: 0.1034 - val_loss: 0.1863\n",
      "Epoch 75/100\n",
      "234/234 - 1s - loss: 0.1006 - val_loss: 0.1847\n",
      "Epoch 76/100\n",
      "234/234 - 1s - loss: 0.0928 - val_loss: 0.1739\n",
      "Epoch 77/100\n",
      "234/234 - 1s - loss: 0.1066 - val_loss: 0.1778\n",
      "Epoch 78/100\n",
      "234/234 - 1s - loss: 0.1074 - val_loss: 0.1911\n",
      "Epoch 79/100\n",
      "234/234 - 1s - loss: 0.1081 - val_loss: 0.2022\n",
      "Epoch 80/100\n",
      "234/234 - 1s - loss: 0.0983 - val_loss: 0.1798\n",
      "Epoch 81/100\n",
      "234/234 - 1s - loss: 0.0948 - val_loss: 0.1797\n",
      "Epoch 82/100\n",
      "234/234 - 1s - loss: 0.0968 - val_loss: 0.1877\n",
      "Epoch 83/100\n",
      "234/234 - 1s - loss: 0.1113 - val_loss: 0.2674\n",
      "Epoch 84/100\n",
      "234/234 - 1s - loss: 0.1203 - val_loss: 0.2079\n",
      "Epoch 85/100\n",
      "234/234 - 1s - loss: 0.0972 - val_loss: 0.2168\n",
      "Epoch 86/100\n",
      "234/234 - 1s - loss: 0.0985 - val_loss: 0.2130\n",
      "Epoch 87/100\n",
      "234/234 - 1s - loss: 0.0983 - val_loss: 0.1881\n",
      "Epoch 88/100\n",
      "234/234 - 1s - loss: 0.1052 - val_loss: 0.2117\n",
      "Epoch 89/100\n",
      "234/234 - 1s - loss: 0.1004 - val_loss: 0.1878\n",
      "Epoch 90/100\n",
      "234/234 - 1s - loss: 0.0973 - val_loss: 0.1918\n",
      "Epoch 91/100\n",
      "234/234 - 1s - loss: 0.0967 - val_loss: 0.1906\n",
      "Epoch 92/100\n",
      "234/234 - 1s - loss: 0.0989 - val_loss: 0.1818\n",
      "Epoch 93/100\n",
      "234/234 - 1s - loss: 0.1005 - val_loss: 0.1787\n",
      "Epoch 94/100\n",
      "234/234 - 1s - loss: 0.0927 - val_loss: 0.1991\n",
      "Epoch 95/100\n",
      "234/234 - 1s - loss: 0.0928 - val_loss: 0.1983\n",
      "Epoch 96/100\n",
      "234/234 - 1s - loss: 0.0885 - val_loss: 0.1859\n",
      "Epoch 97/100\n",
      "234/234 - 1s - loss: 0.0859 - val_loss: 0.1902\n",
      "Epoch 98/100\n",
      "234/234 - 1s - loss: 0.0929 - val_loss: 0.1947\n",
      "Epoch 99/100\n",
      "234/234 - 1s - loss: 0.0892 - val_loss: 0.1964\n",
      "Epoch 100/100\n",
      "234/234 - 1s - loss: 0.0922 - val_loss: 0.1989\n"
     ]
    },
    {
     "data": {
      "text/plain": [
       "<tensorflow.python.keras.callbacks.History at 0x247d7a4e748>"
      ]
     },
     "execution_count": 33,
     "metadata": {},
     "output_type": "execute_result"
    }
   ],
   "source": [
    "model.fit(X_scaled, y_scaled, validation_split=0.3, epochs=100, verbose=2)"
   ]
  },
  {
   "cell_type": "code",
   "execution_count": 35,
   "metadata": {},
   "outputs": [],
   "source": [
    "tfjs.converters.save_keras_model(model,'models')"
   ]
  },
  {
   "cell_type": "markdown",
   "metadata": {},
   "source": [
    "Let us import testing data and normalize it."
   ]
  },
  {
   "cell_type": "code",
   "execution_count": 16,
   "metadata": {},
   "outputs": [],
   "source": [
    "df=pd.read_csv('Dataset/test_clean_data.csv')"
   ]
  },
  {
   "cell_type": "code",
   "execution_count": 17,
   "metadata": {},
   "outputs": [
    {
     "data": {
      "text/html": [
       "<div>\n",
       "<style scoped>\n",
       "    .dataframe tbody tr th:only-of-type {\n",
       "        vertical-align: middle;\n",
       "    }\n",
       "\n",
       "    .dataframe tbody tr th {\n",
       "        vertical-align: top;\n",
       "    }\n",
       "\n",
       "    .dataframe thead th {\n",
       "        text-align: right;\n",
       "    }\n",
       "</style>\n",
       "<table border=\"1\" class=\"dataframe\">\n",
       "  <thead>\n",
       "    <tr style=\"text-align: right;\">\n",
       "      <th></th>\n",
       "      <th>Total_Stops</th>\n",
       "      <th>Journey_Month</th>\n",
       "      <th>Journey_Day</th>\n",
       "      <th>Dep_hour</th>\n",
       "      <th>Dep_min</th>\n",
       "      <th>Arrival_hour</th>\n",
       "      <th>Arrival_min</th>\n",
       "      <th>Duration_hour</th>\n",
       "      <th>Duration_min</th>\n",
       "      <th>Airline_Air India</th>\n",
       "      <th>...</th>\n",
       "      <th>Airline_Vistara Premium economy</th>\n",
       "      <th>Source_Chennai</th>\n",
       "      <th>Source_Delhi</th>\n",
       "      <th>Source_Kolkata</th>\n",
       "      <th>Source_Mumbai</th>\n",
       "      <th>Destination_Cochin</th>\n",
       "      <th>Destination_Delhi</th>\n",
       "      <th>Destination_Hyderabad</th>\n",
       "      <th>Destination_Kolkata</th>\n",
       "      <th>Destination_New Delhi</th>\n",
       "    </tr>\n",
       "  </thead>\n",
       "  <tbody>\n",
       "    <tr>\n",
       "      <td>0</td>\n",
       "      <td>1</td>\n",
       "      <td>6</td>\n",
       "      <td>6</td>\n",
       "      <td>17</td>\n",
       "      <td>30</td>\n",
       "      <td>4</td>\n",
       "      <td>25</td>\n",
       "      <td>10</td>\n",
       "      <td>55</td>\n",
       "      <td>0</td>\n",
       "      <td>...</td>\n",
       "      <td>0</td>\n",
       "      <td>0</td>\n",
       "      <td>1</td>\n",
       "      <td>0</td>\n",
       "      <td>0</td>\n",
       "      <td>1</td>\n",
       "      <td>0</td>\n",
       "      <td>0</td>\n",
       "      <td>0</td>\n",
       "      <td>0</td>\n",
       "    </tr>\n",
       "    <tr>\n",
       "      <td>1</td>\n",
       "      <td>1</td>\n",
       "      <td>5</td>\n",
       "      <td>12</td>\n",
       "      <td>6</td>\n",
       "      <td>20</td>\n",
       "      <td>10</td>\n",
       "      <td>20</td>\n",
       "      <td>4</td>\n",
       "      <td>0</td>\n",
       "      <td>0</td>\n",
       "      <td>...</td>\n",
       "      <td>0</td>\n",
       "      <td>0</td>\n",
       "      <td>0</td>\n",
       "      <td>1</td>\n",
       "      <td>0</td>\n",
       "      <td>0</td>\n",
       "      <td>0</td>\n",
       "      <td>0</td>\n",
       "      <td>0</td>\n",
       "      <td>0</td>\n",
       "    </tr>\n",
       "    <tr>\n",
       "      <td>2</td>\n",
       "      <td>1</td>\n",
       "      <td>5</td>\n",
       "      <td>21</td>\n",
       "      <td>19</td>\n",
       "      <td>15</td>\n",
       "      <td>19</td>\n",
       "      <td>0</td>\n",
       "      <td>23</td>\n",
       "      <td>45</td>\n",
       "      <td>0</td>\n",
       "      <td>...</td>\n",
       "      <td>0</td>\n",
       "      <td>0</td>\n",
       "      <td>1</td>\n",
       "      <td>0</td>\n",
       "      <td>0</td>\n",
       "      <td>1</td>\n",
       "      <td>0</td>\n",
       "      <td>0</td>\n",
       "      <td>0</td>\n",
       "      <td>0</td>\n",
       "    </tr>\n",
       "    <tr>\n",
       "      <td>3</td>\n",
       "      <td>1</td>\n",
       "      <td>5</td>\n",
       "      <td>21</td>\n",
       "      <td>8</td>\n",
       "      <td>0</td>\n",
       "      <td>21</td>\n",
       "      <td>0</td>\n",
       "      <td>13</td>\n",
       "      <td>0</td>\n",
       "      <td>0</td>\n",
       "      <td>...</td>\n",
       "      <td>0</td>\n",
       "      <td>0</td>\n",
       "      <td>1</td>\n",
       "      <td>0</td>\n",
       "      <td>0</td>\n",
       "      <td>1</td>\n",
       "      <td>0</td>\n",
       "      <td>0</td>\n",
       "      <td>0</td>\n",
       "      <td>0</td>\n",
       "    </tr>\n",
       "    <tr>\n",
       "      <td>4</td>\n",
       "      <td>0</td>\n",
       "      <td>6</td>\n",
       "      <td>24</td>\n",
       "      <td>23</td>\n",
       "      <td>55</td>\n",
       "      <td>2</td>\n",
       "      <td>45</td>\n",
       "      <td>2</td>\n",
       "      <td>50</td>\n",
       "      <td>0</td>\n",
       "      <td>...</td>\n",
       "      <td>0</td>\n",
       "      <td>0</td>\n",
       "      <td>0</td>\n",
       "      <td>0</td>\n",
       "      <td>0</td>\n",
       "      <td>0</td>\n",
       "      <td>1</td>\n",
       "      <td>0</td>\n",
       "      <td>0</td>\n",
       "      <td>0</td>\n",
       "    </tr>\n",
       "  </tbody>\n",
       "</table>\n",
       "<p>5 rows × 28 columns</p>\n",
       "</div>"
      ],
      "text/plain": [
       "   Total_Stops  Journey_Month  Journey_Day  Dep_hour  Dep_min  Arrival_hour  \\\n",
       "0            1              6            6        17       30             4   \n",
       "1            1              5           12         6       20            10   \n",
       "2            1              5           21        19       15            19   \n",
       "3            1              5           21         8        0            21   \n",
       "4            0              6           24        23       55             2   \n",
       "\n",
       "   Arrival_min  Duration_hour  Duration_min  Airline_Air India  ...  \\\n",
       "0           25             10            55                  0  ...   \n",
       "1           20              4             0                  0  ...   \n",
       "2            0             23            45                  0  ...   \n",
       "3            0             13             0                  0  ...   \n",
       "4           45              2            50                  0  ...   \n",
       "\n",
       "   Airline_Vistara Premium economy  Source_Chennai  Source_Delhi  \\\n",
       "0                                0               0             1   \n",
       "1                                0               0             0   \n",
       "2                                0               0             1   \n",
       "3                                0               0             1   \n",
       "4                                0               0             0   \n",
       "\n",
       "   Source_Kolkata  Source_Mumbai  Destination_Cochin  Destination_Delhi  \\\n",
       "0               0              0                   1                  0   \n",
       "1               1              0                   0                  0   \n",
       "2               0              0                   1                  0   \n",
       "3               0              0                   1                  0   \n",
       "4               0              0                   0                  1   \n",
       "\n",
       "   Destination_Hyderabad  Destination_Kolkata  Destination_New Delhi  \n",
       "0                      0                    0                      0  \n",
       "1                      0                    0                      0  \n",
       "2                      0                    0                      0  \n",
       "3                      0                    0                      0  \n",
       "4                      0                    0                      0  \n",
       "\n",
       "[5 rows x 28 columns]"
      ]
     },
     "execution_count": 17,
     "metadata": {},
     "output_type": "execute_result"
    }
   ],
   "source": [
    "df.head()"
   ]
  },
  {
   "cell_type": "code",
   "execution_count": 18,
   "metadata": {},
   "outputs": [],
   "source": [
    "X_test=df.iloc[:,:].values"
   ]
  },
  {
   "cell_type": "code",
   "execution_count": 19,
   "metadata": {},
   "outputs": [
    {
     "data": {
      "text/plain": [
       "array([[ 1,  6,  6, ...,  0,  0,  0],\n",
       "       [ 1,  5, 12, ...,  0,  0,  0],\n",
       "       [ 1,  5, 21, ...,  0,  0,  0],\n",
       "       ...,\n",
       "       [ 1,  3,  6, ...,  0,  0,  0],\n",
       "       [ 1,  3,  6, ...,  0,  0,  0],\n",
       "       [ 1,  6, 15, ...,  0,  0,  0]], dtype=int64)"
      ]
     },
     "execution_count": 19,
     "metadata": {},
     "output_type": "execute_result"
    }
   ],
   "source": [
    "X_test"
   ]
  },
  {
   "cell_type": "code",
   "execution_count": 20,
   "metadata": {},
   "outputs": [
    {
     "data": {
      "text/plain": [
       "(2671, 28)"
      ]
     },
     "execution_count": 20,
     "metadata": {},
     "output_type": "execute_result"
    }
   ],
   "source": [
    "X_test.shape"
   ]
  },
  {
   "cell_type": "markdown",
   "metadata": {},
   "source": [
    "Let us normalize our testing data."
   ]
  },
  {
   "cell_type": "code",
   "execution_count": 21,
   "metadata": {},
   "outputs": [],
   "source": [
    "X_scaled_test = scaler.fit_transform(X_test)"
   ]
  },
  {
   "cell_type": "code",
   "execution_count": 22,
   "metadata": {},
   "outputs": [
    {
     "data": {
      "text/plain": [
       "array([[ 0.24785314,  1.09474457, -0.83733254, ..., -0.27358563,\n",
       "        -0.16997235, -0.31276448],\n",
       "       [ 0.24785314,  0.2405048 , -0.11087675, ..., -0.27358563,\n",
       "        -0.16997235, -0.31276448],\n",
       "       [ 0.24785314,  0.2405048 ,  0.97880692, ..., -0.27358563,\n",
       "        -0.16997235, -0.31276448],\n",
       "       ...,\n",
       "       [ 0.24785314, -1.46797475, -0.83733254, ..., -0.27358563,\n",
       "        -0.16997235, -0.31276448],\n",
       "       [ 0.24785314, -1.46797475, -0.83733254, ..., -0.27358563,\n",
       "        -0.16997235, -0.31276448],\n",
       "       [ 0.24785314,  1.09474457,  0.25235114, ..., -0.27358563,\n",
       "        -0.16997235, -0.31276448]])"
      ]
     },
     "execution_count": 22,
     "metadata": {},
     "output_type": "execute_result"
    }
   ],
   "source": [
    "X_scaled_test"
   ]
  },
  {
   "cell_type": "markdown",
   "metadata": {},
   "source": [
    "Let us print predicted values."
   ]
  },
  {
   "cell_type": "code",
   "execution_count": 23,
   "metadata": {},
   "outputs": [
    {
     "data": {
      "text/plain": [
       "array([[ 0.5769033 ],\n",
       "       [-1.0783337 ],\n",
       "       [ 1.2391145 ],\n",
       "       ...,\n",
       "       [ 1.0120201 ],\n",
       "       [ 0.6936318 ],\n",
       "       [-0.16420469]], dtype=float32)"
      ]
     },
     "execution_count": 23,
     "metadata": {},
     "output_type": "execute_result"
    }
   ],
   "source": [
    "pred=model.predict(X_scaled_test)\n",
    "pred"
   ]
  },
  {
   "cell_type": "markdown",
   "metadata": {},
   "source": [
    "Let us print our loss."
   ]
  },
  {
   "cell_type": "code",
   "execution_count": 24,
   "metadata": {},
   "outputs": [
    {
     "name": "stdout",
     "output_type": "stream",
     "text": [
      "Loss: 0.0\n"
     ]
    }
   ],
   "source": [
    "score = model.evaluate(X_scaled_test,pred,verbose=0)\n",
    "print('Loss:',score)"
   ]
  },
  {
   "cell_type": "markdown",
   "metadata": {},
   "source": [
    "Our loss is 0.\n",
    "It's highly accurate."
   ]
  },
  {
   "cell_type": "code",
   "execution_count": 25,
   "metadata": {},
   "outputs": [
    {
     "data": {
      "text/plain": [
       "(2671, 1)"
      ]
     },
     "execution_count": 25,
     "metadata": {},
     "output_type": "execute_result"
    }
   ],
   "source": [
    "pred.shape"
   ]
  },
  {
   "cell_type": "code",
   "execution_count": 26,
   "metadata": {},
   "outputs": [],
   "source": [
    "model.save('Keras_prediction.h5')#To save model"
   ]
  },
  {
   "cell_type": "code",
   "execution_count": null,
   "metadata": {},
   "outputs": [],
   "source": []
  }
 ],
 "metadata": {
  "kernelspec": {
   "display_name": "Python 3",
   "language": "python",
   "name": "python3"
  },
  "language_info": {
   "codemirror_mode": {
    "name": "ipython",
    "version": 3
   },
   "file_extension": ".py",
   "mimetype": "text/x-python",
   "name": "python",
   "nbconvert_exporter": "python",
   "pygments_lexer": "ipython3",
   "version": "3.7.4"
  }
 },
 "nbformat": 4,
 "nbformat_minor": 2
}
