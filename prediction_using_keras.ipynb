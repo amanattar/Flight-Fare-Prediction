{
 "cells": [
  {
   "cell_type": "markdown",
   "metadata": {},
   "source": [
    "# Prediction using keras"
   ]
  },
  {
   "cell_type": "markdown",
   "metadata": {},
   "source": [
    "Let us import pandas to read our csv file."
   ]
  },
  {
   "cell_type": "code",
   "execution_count": 1,
   "metadata": {},
   "outputs": [],
   "source": [
    "import pandas as pd"
   ]
  },
  {
   "cell_type": "code",
   "execution_count": 2,
   "metadata": {},
   "outputs": [],
   "source": [
    "df=pd.read_csv('Dataset/train_clean_data.csv')"
   ]
  },
  {
   "cell_type": "code",
   "execution_count": 3,
   "metadata": {},
   "outputs": [
    {
     "data": {
      "text/html": [
       "<div>\n",
       "<style scoped>\n",
       "    .dataframe tbody tr th:only-of-type {\n",
       "        vertical-align: middle;\n",
       "    }\n",
       "\n",
       "    .dataframe tbody tr th {\n",
       "        vertical-align: top;\n",
       "    }\n",
       "\n",
       "    .dataframe thead th {\n",
       "        text-align: right;\n",
       "    }\n",
       "</style>\n",
       "<table border=\"1\" class=\"dataframe\">\n",
       "  <thead>\n",
       "    <tr style=\"text-align: right;\">\n",
       "      <th></th>\n",
       "      <th>Total_Stops</th>\n",
       "      <th>Price</th>\n",
       "      <th>Journey_Month</th>\n",
       "      <th>Journey_Day</th>\n",
       "      <th>Dep_hour</th>\n",
       "      <th>Dep_min</th>\n",
       "      <th>Arrival_hour</th>\n",
       "      <th>Arrival_min</th>\n",
       "      <th>Duration_hour</th>\n",
       "      <th>Duration_min</th>\n",
       "      <th>...</th>\n",
       "      <th>Airline_Vistara Premium economy</th>\n",
       "      <th>Source_Chennai</th>\n",
       "      <th>Source_Delhi</th>\n",
       "      <th>Source_Kolkata</th>\n",
       "      <th>Source_Mumbai</th>\n",
       "      <th>Destination_Cochin</th>\n",
       "      <th>Destination_Delhi</th>\n",
       "      <th>Destination_Hyderabad</th>\n",
       "      <th>Destination_Kolkata</th>\n",
       "      <th>Destination_New Delhi</th>\n",
       "    </tr>\n",
       "  </thead>\n",
       "  <tbody>\n",
       "    <tr>\n",
       "      <td>0</td>\n",
       "      <td>0</td>\n",
       "      <td>3897</td>\n",
       "      <td>3</td>\n",
       "      <td>24</td>\n",
       "      <td>22</td>\n",
       "      <td>20</td>\n",
       "      <td>1</td>\n",
       "      <td>10</td>\n",
       "      <td>2</td>\n",
       "      <td>50</td>\n",
       "      <td>...</td>\n",
       "      <td>0</td>\n",
       "      <td>0</td>\n",
       "      <td>0</td>\n",
       "      <td>0</td>\n",
       "      <td>0</td>\n",
       "      <td>0</td>\n",
       "      <td>0</td>\n",
       "      <td>0</td>\n",
       "      <td>0</td>\n",
       "      <td>1</td>\n",
       "    </tr>\n",
       "    <tr>\n",
       "      <td>1</td>\n",
       "      <td>2</td>\n",
       "      <td>7662</td>\n",
       "      <td>5</td>\n",
       "      <td>1</td>\n",
       "      <td>5</td>\n",
       "      <td>50</td>\n",
       "      <td>13</td>\n",
       "      <td>15</td>\n",
       "      <td>7</td>\n",
       "      <td>25</td>\n",
       "      <td>...</td>\n",
       "      <td>0</td>\n",
       "      <td>0</td>\n",
       "      <td>0</td>\n",
       "      <td>1</td>\n",
       "      <td>0</td>\n",
       "      <td>0</td>\n",
       "      <td>0</td>\n",
       "      <td>0</td>\n",
       "      <td>0</td>\n",
       "      <td>0</td>\n",
       "    </tr>\n",
       "    <tr>\n",
       "      <td>2</td>\n",
       "      <td>2</td>\n",
       "      <td>13882</td>\n",
       "      <td>6</td>\n",
       "      <td>9</td>\n",
       "      <td>9</td>\n",
       "      <td>25</td>\n",
       "      <td>4</td>\n",
       "      <td>25</td>\n",
       "      <td>19</td>\n",
       "      <td>0</td>\n",
       "      <td>...</td>\n",
       "      <td>0</td>\n",
       "      <td>0</td>\n",
       "      <td>1</td>\n",
       "      <td>0</td>\n",
       "      <td>0</td>\n",
       "      <td>1</td>\n",
       "      <td>0</td>\n",
       "      <td>0</td>\n",
       "      <td>0</td>\n",
       "      <td>0</td>\n",
       "    </tr>\n",
       "    <tr>\n",
       "      <td>3</td>\n",
       "      <td>1</td>\n",
       "      <td>6218</td>\n",
       "      <td>5</td>\n",
       "      <td>12</td>\n",
       "      <td>18</td>\n",
       "      <td>5</td>\n",
       "      <td>23</td>\n",
       "      <td>30</td>\n",
       "      <td>5</td>\n",
       "      <td>25</td>\n",
       "      <td>...</td>\n",
       "      <td>0</td>\n",
       "      <td>0</td>\n",
       "      <td>0</td>\n",
       "      <td>1</td>\n",
       "      <td>0</td>\n",
       "      <td>0</td>\n",
       "      <td>0</td>\n",
       "      <td>0</td>\n",
       "      <td>0</td>\n",
       "      <td>0</td>\n",
       "    </tr>\n",
       "    <tr>\n",
       "      <td>4</td>\n",
       "      <td>1</td>\n",
       "      <td>13302</td>\n",
       "      <td>3</td>\n",
       "      <td>1</td>\n",
       "      <td>16</td>\n",
       "      <td>50</td>\n",
       "      <td>21</td>\n",
       "      <td>35</td>\n",
       "      <td>4</td>\n",
       "      <td>45</td>\n",
       "      <td>...</td>\n",
       "      <td>0</td>\n",
       "      <td>0</td>\n",
       "      <td>0</td>\n",
       "      <td>0</td>\n",
       "      <td>0</td>\n",
       "      <td>0</td>\n",
       "      <td>0</td>\n",
       "      <td>0</td>\n",
       "      <td>0</td>\n",
       "      <td>1</td>\n",
       "    </tr>\n",
       "  </tbody>\n",
       "</table>\n",
       "<p>5 rows × 29 columns</p>\n",
       "</div>"
      ],
      "text/plain": [
       "   Total_Stops  Price  Journey_Month  Journey_Day  Dep_hour  Dep_min  \\\n",
       "0            0   3897              3           24        22       20   \n",
       "1            2   7662              5            1         5       50   \n",
       "2            2  13882              6            9         9       25   \n",
       "3            1   6218              5           12        18        5   \n",
       "4            1  13302              3            1        16       50   \n",
       "\n",
       "   Arrival_hour  Arrival_min  Duration_hour  Duration_min  ...  \\\n",
       "0             1           10              2            50  ...   \n",
       "1            13           15              7            25  ...   \n",
       "2             4           25             19             0  ...   \n",
       "3            23           30              5            25  ...   \n",
       "4            21           35              4            45  ...   \n",
       "\n",
       "   Airline_Vistara Premium economy  Source_Chennai  Source_Delhi  \\\n",
       "0                                0               0             0   \n",
       "1                                0               0             0   \n",
       "2                                0               0             1   \n",
       "3                                0               0             0   \n",
       "4                                0               0             0   \n",
       "\n",
       "   Source_Kolkata  Source_Mumbai  Destination_Cochin  Destination_Delhi  \\\n",
       "0               0              0                   0                  0   \n",
       "1               1              0                   0                  0   \n",
       "2               0              0                   1                  0   \n",
       "3               1              0                   0                  0   \n",
       "4               0              0                   0                  0   \n",
       "\n",
       "   Destination_Hyderabad  Destination_Kolkata  Destination_New Delhi  \n",
       "0                      0                    0                      1  \n",
       "1                      0                    0                      0  \n",
       "2                      0                    0                      0  \n",
       "3                      0                    0                      0  \n",
       "4                      0                    0                      1  \n",
       "\n",
       "[5 rows x 29 columns]"
      ]
     },
     "execution_count": 3,
     "metadata": {},
     "output_type": "execute_result"
    }
   ],
   "source": [
    "df.head()"
   ]
  },
  {
   "cell_type": "markdown",
   "metadata": {},
   "source": [
    "Let us assign price as output and rest all of the columns as input."
   ]
  },
  {
   "cell_type": "code",
   "execution_count": 4,
   "metadata": {},
   "outputs": [],
   "source": [
    "X=df.drop(['Price'],axis=1)\n",
    "y=df[['Price']]\n",
    "X=X.iloc[:,:].values\n",
    "y=y.iloc[:,:].values"
   ]
  },
  {
   "cell_type": "code",
   "execution_count": 5,
   "metadata": {},
   "outputs": [
    {
     "data": {
      "text/plain": [
       "array([[ 0,  3, 24, ...,  0,  0,  1],\n",
       "       [ 2,  5,  1, ...,  0,  0,  0],\n",
       "       [ 2,  6,  9, ...,  0,  0,  0],\n",
       "       ...,\n",
       "       [ 0,  4, 27, ...,  0,  0,  0],\n",
       "       [ 0,  3,  1, ...,  0,  0,  1],\n",
       "       [ 2,  5,  9, ...,  0,  0,  0]], dtype=int64)"
      ]
     },
     "execution_count": 5,
     "metadata": {},
     "output_type": "execute_result"
    }
   ],
   "source": [
    "X"
   ]
  },
  {
   "cell_type": "code",
   "execution_count": 6,
   "metadata": {},
   "outputs": [
    {
     "data": {
      "text/plain": [
       "(10681, 28)"
      ]
     },
     "execution_count": 6,
     "metadata": {},
     "output_type": "execute_result"
    }
   ],
   "source": [
    "X.shape"
   ]
  },
  {
   "cell_type": "code",
   "execution_count": 7,
   "metadata": {},
   "outputs": [
    {
     "data": {
      "text/plain": [
       "array([[ 3897],\n",
       "       [ 7662],\n",
       "       [13882],\n",
       "       ...,\n",
       "       [ 7229],\n",
       "       [12648],\n",
       "       [11753]], dtype=int64)"
      ]
     },
     "execution_count": 7,
     "metadata": {},
     "output_type": "execute_result"
    }
   ],
   "source": [
    "y"
   ]
  },
  {
   "cell_type": "code",
   "execution_count": 8,
   "metadata": {},
   "outputs": [
    {
     "data": {
      "text/plain": [
       "(10681, 1)"
      ]
     },
     "execution_count": 8,
     "metadata": {},
     "output_type": "execute_result"
    }
   ],
   "source": [
    "y.shape"
   ]
  },
  {
   "cell_type": "markdown",
   "metadata": {},
   "source": [
    "Let us normalize our input and output."
   ]
  },
  {
   "cell_type": "code",
   "execution_count": 9,
   "metadata": {},
   "outputs": [],
   "source": [
    "# data normalization with sklearn\n",
    "from sklearn.preprocessing import MinMaxScaler,StandardScaler\n",
    "\n",
    "scaler = StandardScaler() \n",
    "X_scaled = scaler.fit_transform(X)\n",
    "y_scaled = scaler.fit_transform(y)\n"
   ]
  },
  {
   "cell_type": "code",
   "execution_count": 10,
   "metadata": {},
   "outputs": [
    {
     "data": {
      "text/plain": [
       "array([[-1.22058845, -1.46761891,  1.23719214, ..., -0.26401621,\n",
       "        -0.1923286 ,  3.23423877],\n",
       "       [ 1.74138025,  0.25016506, -1.47537531, ..., -0.26401621,\n",
       "        -0.1923286 , -0.30919177],\n",
       "       [ 1.74138025,  1.10905704, -0.53187359, ..., -0.26401621,\n",
       "        -0.1923286 , -0.30919177],\n",
       "       ...,\n",
       "       [-1.22058845, -0.60872693,  1.59100529, ..., -0.26401621,\n",
       "        -0.1923286 , -0.30919177],\n",
       "       [-1.22058845, -1.46761891, -1.47537531, ..., -0.26401621,\n",
       "        -0.1923286 ,  3.23423877],\n",
       "       [ 1.74138025,  0.25016506, -0.53187359, ..., -0.26401621,\n",
       "        -0.1923286 , -0.30919177]])"
      ]
     },
     "execution_count": 10,
     "metadata": {},
     "output_type": "execute_result"
    }
   ],
   "source": [
    "X_scaled"
   ]
  },
  {
   "cell_type": "code",
   "execution_count": 11,
   "metadata": {},
   "outputs": [
    {
     "data": {
      "text/plain": [
       "array([[-1.12564296],\n",
       "       [-0.30917044],\n",
       "       [ 1.03968987],\n",
       "       ...,\n",
       "       [-0.4030702 ],\n",
       "       [ 0.7720864 ],\n",
       "       [ 0.57799797]])"
      ]
     },
     "execution_count": 11,
     "metadata": {},
     "output_type": "execute_result"
    }
   ],
   "source": [
    "y_scaled"
   ]
  },
  {
   "cell_type": "markdown",
   "metadata": {},
   "source": [
    "Let us import Sequential for declaring our model and Dense to specify number of layers."
   ]
  },
  {
   "cell_type": "code",
   "execution_count": 12,
   "metadata": {},
   "outputs": [],
   "source": [
    "from tensorflow.keras.models import Sequential\n",
    "from tensorflow.keras.layers import Dense"
   ]
  },
  {
   "cell_type": "markdown",
   "metadata": {},
   "source": [
    "Let us define keras model with 18 layers with input layer having 256 nodes, optimizer adam and loss mean_squared_error for regression."
   ]
  },
  {
   "cell_type": "code",
   "execution_count": 13,
   "metadata": {},
   "outputs": [],
   "source": [
    "def regression_model():\n",
    "    # create model\n",
    "    model = Sequential()\n",
    "    model.add(Dense(256, activation='relu', input_shape=(28,)))\n",
    "    model.add(Dense(64, activation='relu'))\n",
    "    model.add(Dense(32, activation='relu'))\n",
    "    model.add(Dense(32, activation='relu'))\n",
    "    model.add(Dense(32, activation='relu'))\n",
    "    model.add(Dense(32, activation='relu'))\n",
    "    model.add(Dense(32, activation='relu'))\n",
    "    model.add(Dense(32, activation='relu'))\n",
    "    model.add(Dense(32, activation='relu'))\n",
    "    model.add(Dense(32, activation='relu'))\n",
    "    model.add(Dense(32, activation='relu'))\n",
    "    model.add(Dense(32, activation='relu'))\n",
    "    model.add(Dense(32, activation='relu'))\n",
    "    model.add(Dense(32, activation='relu'))\n",
    "    model.add(Dense(32, activation='relu'))\n",
    "    model.add(Dense(32, activation='relu'))\n",
    "    model.add(Dense(32, activation='relu'))\n",
    "    model.add(Dense(1))\n",
    "    \n",
    "    # compile model\n",
    "    model.compile(optimizer='adam', loss='mean_squared_error')\n",
    "    return model"
   ]
  },
  {
   "cell_type": "code",
   "execution_count": 14,
   "metadata": {},
   "outputs": [],
   "source": [
    "model = regression_model()"
   ]
  },
  {
   "cell_type": "markdown",
   "metadata": {},
   "source": [
    "Let us fit our training data."
   ]
  },
  {
   "cell_type": "code",
   "execution_count": 15,
   "metadata": {},
   "outputs": [
    {
     "name": "stdout",
     "output_type": "stream",
     "text": [
      "Epoch 1/100\n",
      "234/234 - 2s - loss: 0.5184 - val_loss: 0.3360\n",
      "Epoch 2/100\n",
      "234/234 - 1s - loss: 0.3497 - val_loss: 0.2498\n",
      "Epoch 3/100\n",
      "234/234 - 1s - loss: 0.2811 - val_loss: 0.3672\n",
      "Epoch 4/100\n",
      "234/234 - 1s - loss: 0.3190 - val_loss: 0.2463\n",
      "Epoch 5/100\n",
      "234/234 - 1s - loss: 0.2534 - val_loss: 0.2528\n",
      "Epoch 6/100\n",
      "234/234 - 1s - loss: 0.2895 - val_loss: 0.2475\n",
      "Epoch 7/100\n",
      "234/234 - 1s - loss: 0.3119 - val_loss: 0.2729\n",
      "Epoch 8/100\n",
      "234/234 - 1s - loss: 0.2323 - val_loss: 0.2600\n",
      "Epoch 9/100\n",
      "234/234 - 1s - loss: 0.2490 - val_loss: 0.2390\n",
      "Epoch 10/100\n",
      "234/234 - 1s - loss: 0.2549 - val_loss: 0.2181\n",
      "Epoch 11/100\n",
      "234/234 - 1s - loss: 0.2419 - val_loss: 0.2468\n",
      "Epoch 12/100\n",
      "234/234 - 1s - loss: 0.2076 - val_loss: 0.2400\n",
      "Epoch 13/100\n",
      "234/234 - 1s - loss: 0.2281 - val_loss: 0.2278\n",
      "Epoch 14/100\n",
      "234/234 - 1s - loss: 0.1900 - val_loss: 0.2405\n",
      "Epoch 15/100\n",
      "234/234 - 1s - loss: 0.2213 - val_loss: 0.2096\n",
      "Epoch 16/100\n",
      "234/234 - 1s - loss: 0.2132 - val_loss: 0.2031\n",
      "Epoch 17/100\n",
      "234/234 - 1s - loss: 0.1844 - val_loss: 0.1956\n",
      "Epoch 18/100\n",
      "234/234 - 1s - loss: 0.2263 - val_loss: 0.2642\n",
      "Epoch 19/100\n",
      "234/234 - 1s - loss: 0.2033 - val_loss: 0.2065\n",
      "Epoch 20/100\n",
      "234/234 - 1s - loss: 0.1922 - val_loss: 0.2077\n",
      "Epoch 21/100\n",
      "234/234 - 1s - loss: 0.1700 - val_loss: 0.2366\n",
      "Epoch 22/100\n",
      "234/234 - 1s - loss: 0.1897 - val_loss: 0.1923\n",
      "Epoch 23/100\n",
      "234/234 - 1s - loss: 0.1625 - val_loss: 0.1915\n",
      "Epoch 24/100\n",
      "234/234 - 1s - loss: 0.1691 - val_loss: 0.1930\n",
      "Epoch 25/100\n",
      "234/234 - 1s - loss: 0.1682 - val_loss: 0.2016\n",
      "Epoch 26/100\n",
      "234/234 - 1s - loss: 0.1737 - val_loss: 0.1957\n",
      "Epoch 27/100\n",
      "234/234 - 1s - loss: 0.2116 - val_loss: 0.2280\n",
      "Epoch 28/100\n",
      "234/234 - 1s - loss: 0.1788 - val_loss: 0.2096\n",
      "Epoch 29/100\n",
      "234/234 - 1s - loss: 0.1543 - val_loss: 0.2328\n",
      "Epoch 30/100\n",
      "234/234 - 1s - loss: 0.1538 - val_loss: 0.2155\n",
      "Epoch 31/100\n",
      "234/234 - 1s - loss: 0.1699 - val_loss: 0.4927\n",
      "Epoch 32/100\n",
      "234/234 - 1s - loss: 0.1586 - val_loss: 0.1980\n",
      "Epoch 33/100\n",
      "234/234 - 1s - loss: 0.1528 - val_loss: 0.1914\n",
      "Epoch 34/100\n",
      "234/234 - 1s - loss: 0.1362 - val_loss: 0.1899\n",
      "Epoch 35/100\n",
      "234/234 - 1s - loss: 0.1674 - val_loss: 0.2085\n",
      "Epoch 36/100\n",
      "234/234 - 1s - loss: 0.1468 - val_loss: 0.1991\n",
      "Epoch 37/100\n",
      "234/234 - 1s - loss: 0.1977 - val_loss: 0.2108\n",
      "Epoch 38/100\n",
      "234/234 - 1s - loss: 0.1404 - val_loss: 0.2156\n",
      "Epoch 39/100\n",
      "234/234 - 1s - loss: 0.1578 - val_loss: 0.2216\n",
      "Epoch 40/100\n",
      "234/234 - 1s - loss: 0.1329 - val_loss: 0.1838\n",
      "Epoch 41/100\n",
      "234/234 - 1s - loss: 0.1249 - val_loss: 0.1872\n",
      "Epoch 42/100\n",
      "234/234 - 1s - loss: 0.1152 - val_loss: 0.2057\n",
      "Epoch 43/100\n",
      "234/234 - 1s - loss: 0.1175 - val_loss: 0.2222\n",
      "Epoch 44/100\n",
      "234/234 - 1s - loss: 0.1210 - val_loss: 0.2118\n",
      "Epoch 45/100\n",
      "234/234 - 1s - loss: 0.1263 - val_loss: 0.1906\n",
      "Epoch 46/100\n",
      "234/234 - 1s - loss: 0.1115 - val_loss: 0.2155\n",
      "Epoch 47/100\n",
      "234/234 - 1s - loss: 0.1464 - val_loss: 0.1921\n",
      "Epoch 48/100\n",
      "234/234 - 1s - loss: 0.1229 - val_loss: 0.1894\n",
      "Epoch 49/100\n",
      "234/234 - 1s - loss: 0.1571 - val_loss: 0.2118\n",
      "Epoch 50/100\n",
      "234/234 - 1s - loss: 0.1321 - val_loss: 0.2133\n",
      "Epoch 51/100\n",
      "234/234 - 1s - loss: 0.1409 - val_loss: 0.2321\n",
      "Epoch 52/100\n",
      "234/234 - 1s - loss: 0.1661 - val_loss: 0.1965\n",
      "Epoch 53/100\n",
      "234/234 - 1s - loss: 0.1484 - val_loss: 0.1954\n",
      "Epoch 54/100\n",
      "234/234 - 1s - loss: 0.1322 - val_loss: 0.2076\n",
      "Epoch 55/100\n",
      "234/234 - 1s - loss: 0.1193 - val_loss: 0.1991\n",
      "Epoch 56/100\n",
      "234/234 - 1s - loss: 0.1138 - val_loss: 0.2053\n",
      "Epoch 57/100\n",
      "234/234 - 1s - loss: 0.1222 - val_loss: 0.2035\n",
      "Epoch 58/100\n",
      "234/234 - 1s - loss: 0.1084 - val_loss: 0.1886\n",
      "Epoch 59/100\n",
      "234/234 - 1s - loss: 0.1125 - val_loss: 0.1979\n",
      "Epoch 60/100\n",
      "234/234 - 1s - loss: 0.1173 - val_loss: 0.1890\n",
      "Epoch 61/100\n",
      "234/234 - 1s - loss: 0.1509 - val_loss: 0.1876\n",
      "Epoch 62/100\n",
      "234/234 - 1s - loss: 0.1290 - val_loss: 0.1906\n",
      "Epoch 63/100\n",
      "234/234 - 1s - loss: 0.1175 - val_loss: 0.1833\n",
      "Epoch 64/100\n",
      "234/234 - 1s - loss: 0.1129 - val_loss: 0.2353\n",
      "Epoch 65/100\n",
      "234/234 - 1s - loss: 0.1433 - val_loss: 0.1904\n",
      "Epoch 66/100\n",
      "234/234 - 1s - loss: 0.1292 - val_loss: 0.2036\n",
      "Epoch 67/100\n",
      "234/234 - 1s - loss: 0.1332 - val_loss: 0.1915\n",
      "Epoch 68/100\n",
      "234/234 - 1s - loss: 0.1260 - val_loss: 0.2084\n",
      "Epoch 69/100\n",
      "234/234 - 1s - loss: 0.1183 - val_loss: 0.2100\n",
      "Epoch 70/100\n",
      "234/234 - 1s - loss: 0.1025 - val_loss: 0.2005\n",
      "Epoch 71/100\n",
      "234/234 - 1s - loss: 0.1047 - val_loss: 0.2125\n",
      "Epoch 72/100\n",
      "234/234 - 1s - loss: 0.0950 - val_loss: 0.1989\n",
      "Epoch 73/100\n",
      "234/234 - 1s - loss: 0.1101 - val_loss: 0.2034\n",
      "Epoch 74/100\n",
      "234/234 - 1s - loss: 0.1297 - val_loss: 0.1983\n",
      "Epoch 75/100\n",
      "234/234 - 1s - loss: 0.1179 - val_loss: 0.1919\n",
      "Epoch 76/100\n",
      "234/234 - 1s - loss: 0.1337 - val_loss: 0.1886\n",
      "Epoch 77/100\n",
      "234/234 - 1s - loss: 0.1142 - val_loss: 0.1998\n",
      "Epoch 78/100\n",
      "234/234 - 1s - loss: 0.1052 - val_loss: 0.2000\n",
      "Epoch 79/100\n",
      "234/234 - 1s - loss: 0.1079 - val_loss: 0.2188\n",
      "Epoch 80/100\n",
      "234/234 - 1s - loss: 0.1175 - val_loss: 0.2003\n",
      "Epoch 81/100\n",
      "234/234 - 1s - loss: 0.0978 - val_loss: 0.2024\n",
      "Epoch 82/100\n",
      "234/234 - 1s - loss: 0.1130 - val_loss: 0.2143\n",
      "Epoch 83/100\n",
      "234/234 - 1s - loss: 0.1021 - val_loss: 0.1890\n",
      "Epoch 84/100\n",
      "234/234 - 1s - loss: 0.0995 - val_loss: 0.2006\n",
      "Epoch 85/100\n",
      "234/234 - 1s - loss: 0.1002 - val_loss: 0.2049\n",
      "Epoch 86/100\n",
      "234/234 - 1s - loss: 0.0953 - val_loss: 0.1819\n",
      "Epoch 87/100\n",
      "234/234 - 1s - loss: 0.0975 - val_loss: 0.2140\n",
      "Epoch 88/100\n",
      "234/234 - 1s - loss: 0.0955 - val_loss: 0.1825\n",
      "Epoch 89/100\n",
      "234/234 - 1s - loss: 0.0904 - val_loss: 0.2195\n",
      "Epoch 90/100\n",
      "234/234 - 1s - loss: 0.1080 - val_loss: 0.2133\n",
      "Epoch 91/100\n",
      "234/234 - 1s - loss: 0.0957 - val_loss: 0.1981\n",
      "Epoch 92/100\n",
      "234/234 - 1s - loss: 0.1166 - val_loss: 0.1904\n",
      "Epoch 93/100\n",
      "234/234 - 1s - loss: 0.1024 - val_loss: 0.1980\n",
      "Epoch 94/100\n",
      "234/234 - 1s - loss: 0.0970 - val_loss: 0.1988\n",
      "Epoch 95/100\n",
      "234/234 - 1s - loss: 0.0916 - val_loss: 0.2233\n",
      "Epoch 96/100\n",
      "234/234 - 1s - loss: 0.0995 - val_loss: 0.2018\n",
      "Epoch 97/100\n",
      "234/234 - 1s - loss: 0.0965 - val_loss: 0.2092\n",
      "Epoch 98/100\n",
      "234/234 - 1s - loss: 0.0923 - val_loss: 0.2049\n",
      "Epoch 99/100\n",
      "234/234 - 1s - loss: 0.0992 - val_loss: 0.1818\n",
      "Epoch 100/100\n",
      "234/234 - 1s - loss: 0.0947 - val_loss: 0.1848\n"
     ]
    },
    {
     "data": {
      "text/plain": [
       "<tensorflow.python.keras.callbacks.History at 0x247d4e36a88>"
      ]
     },
     "execution_count": 15,
     "metadata": {},
     "output_type": "execute_result"
    }
   ],
   "source": [
    "model.fit(X_scaled, y_scaled, validation_split=0.3, epochs=100, verbose=2)"
   ]
  },
  {
   "cell_type": "markdown",
   "metadata": {},
   "source": [
    "Let us import testing data and normalize it."
   ]
  },
  {
   "cell_type": "code",
   "execution_count": 16,
   "metadata": {},
   "outputs": [],
   "source": [
    "df=pd.read_csv('Dataset/test_clean_data.csv')"
   ]
  },
  {
   "cell_type": "code",
   "execution_count": 17,
   "metadata": {},
   "outputs": [
    {
     "data": {
      "text/html": [
       "<div>\n",
       "<style scoped>\n",
       "    .dataframe tbody tr th:only-of-type {\n",
       "        vertical-align: middle;\n",
       "    }\n",
       "\n",
       "    .dataframe tbody tr th {\n",
       "        vertical-align: top;\n",
       "    }\n",
       "\n",
       "    .dataframe thead th {\n",
       "        text-align: right;\n",
       "    }\n",
       "</style>\n",
       "<table border=\"1\" class=\"dataframe\">\n",
       "  <thead>\n",
       "    <tr style=\"text-align: right;\">\n",
       "      <th></th>\n",
       "      <th>Total_Stops</th>\n",
       "      <th>Journey_Month</th>\n",
       "      <th>Journey_Day</th>\n",
       "      <th>Dep_hour</th>\n",
       "      <th>Dep_min</th>\n",
       "      <th>Arrival_hour</th>\n",
       "      <th>Arrival_min</th>\n",
       "      <th>Duration_hour</th>\n",
       "      <th>Duration_min</th>\n",
       "      <th>Airline_Air India</th>\n",
       "      <th>...</th>\n",
       "      <th>Airline_Vistara Premium economy</th>\n",
       "      <th>Source_Chennai</th>\n",
       "      <th>Source_Delhi</th>\n",
       "      <th>Source_Kolkata</th>\n",
       "      <th>Source_Mumbai</th>\n",
       "      <th>Destination_Cochin</th>\n",
       "      <th>Destination_Delhi</th>\n",
       "      <th>Destination_Hyderabad</th>\n",
       "      <th>Destination_Kolkata</th>\n",
       "      <th>Destination_New Delhi</th>\n",
       "    </tr>\n",
       "  </thead>\n",
       "  <tbody>\n",
       "    <tr>\n",
       "      <td>0</td>\n",
       "      <td>1</td>\n",
       "      <td>6</td>\n",
       "      <td>6</td>\n",
       "      <td>17</td>\n",
       "      <td>30</td>\n",
       "      <td>4</td>\n",
       "      <td>25</td>\n",
       "      <td>10</td>\n",
       "      <td>55</td>\n",
       "      <td>0</td>\n",
       "      <td>...</td>\n",
       "      <td>0</td>\n",
       "      <td>0</td>\n",
       "      <td>1</td>\n",
       "      <td>0</td>\n",
       "      <td>0</td>\n",
       "      <td>1</td>\n",
       "      <td>0</td>\n",
       "      <td>0</td>\n",
       "      <td>0</td>\n",
       "      <td>0</td>\n",
       "    </tr>\n",
       "    <tr>\n",
       "      <td>1</td>\n",
       "      <td>1</td>\n",
       "      <td>5</td>\n",
       "      <td>12</td>\n",
       "      <td>6</td>\n",
       "      <td>20</td>\n",
       "      <td>10</td>\n",
       "      <td>20</td>\n",
       "      <td>4</td>\n",
       "      <td>0</td>\n",
       "      <td>0</td>\n",
       "      <td>...</td>\n",
       "      <td>0</td>\n",
       "      <td>0</td>\n",
       "      <td>0</td>\n",
       "      <td>1</td>\n",
       "      <td>0</td>\n",
       "      <td>0</td>\n",
       "      <td>0</td>\n",
       "      <td>0</td>\n",
       "      <td>0</td>\n",
       "      <td>0</td>\n",
       "    </tr>\n",
       "    <tr>\n",
       "      <td>2</td>\n",
       "      <td>1</td>\n",
       "      <td>5</td>\n",
       "      <td>21</td>\n",
       "      <td>19</td>\n",
       "      <td>15</td>\n",
       "      <td>19</td>\n",
       "      <td>0</td>\n",
       "      <td>23</td>\n",
       "      <td>45</td>\n",
       "      <td>0</td>\n",
       "      <td>...</td>\n",
       "      <td>0</td>\n",
       "      <td>0</td>\n",
       "      <td>1</td>\n",
       "      <td>0</td>\n",
       "      <td>0</td>\n",
       "      <td>1</td>\n",
       "      <td>0</td>\n",
       "      <td>0</td>\n",
       "      <td>0</td>\n",
       "      <td>0</td>\n",
       "    </tr>\n",
       "    <tr>\n",
       "      <td>3</td>\n",
       "      <td>1</td>\n",
       "      <td>5</td>\n",
       "      <td>21</td>\n",
       "      <td>8</td>\n",
       "      <td>0</td>\n",
       "      <td>21</td>\n",
       "      <td>0</td>\n",
       "      <td>13</td>\n",
       "      <td>0</td>\n",
       "      <td>0</td>\n",
       "      <td>...</td>\n",
       "      <td>0</td>\n",
       "      <td>0</td>\n",
       "      <td>1</td>\n",
       "      <td>0</td>\n",
       "      <td>0</td>\n",
       "      <td>1</td>\n",
       "      <td>0</td>\n",
       "      <td>0</td>\n",
       "      <td>0</td>\n",
       "      <td>0</td>\n",
       "    </tr>\n",
       "    <tr>\n",
       "      <td>4</td>\n",
       "      <td>0</td>\n",
       "      <td>6</td>\n",
       "      <td>24</td>\n",
       "      <td>23</td>\n",
       "      <td>55</td>\n",
       "      <td>2</td>\n",
       "      <td>45</td>\n",
       "      <td>2</td>\n",
       "      <td>50</td>\n",
       "      <td>0</td>\n",
       "      <td>...</td>\n",
       "      <td>0</td>\n",
       "      <td>0</td>\n",
       "      <td>0</td>\n",
       "      <td>0</td>\n",
       "      <td>0</td>\n",
       "      <td>0</td>\n",
       "      <td>1</td>\n",
       "      <td>0</td>\n",
       "      <td>0</td>\n",
       "      <td>0</td>\n",
       "    </tr>\n",
       "  </tbody>\n",
       "</table>\n",
       "<p>5 rows × 28 columns</p>\n",
       "</div>"
      ],
      "text/plain": [
       "   Total_Stops  Journey_Month  Journey_Day  Dep_hour  Dep_min  Arrival_hour  \\\n",
       "0            1              6            6        17       30             4   \n",
       "1            1              5           12         6       20            10   \n",
       "2            1              5           21        19       15            19   \n",
       "3            1              5           21         8        0            21   \n",
       "4            0              6           24        23       55             2   \n",
       "\n",
       "   Arrival_min  Duration_hour  Duration_min  Airline_Air India  ...  \\\n",
       "0           25             10            55                  0  ...   \n",
       "1           20              4             0                  0  ...   \n",
       "2            0             23            45                  0  ...   \n",
       "3            0             13             0                  0  ...   \n",
       "4           45              2            50                  0  ...   \n",
       "\n",
       "   Airline_Vistara Premium economy  Source_Chennai  Source_Delhi  \\\n",
       "0                                0               0             1   \n",
       "1                                0               0             0   \n",
       "2                                0               0             1   \n",
       "3                                0               0             1   \n",
       "4                                0               0             0   \n",
       "\n",
       "   Source_Kolkata  Source_Mumbai  Destination_Cochin  Destination_Delhi  \\\n",
       "0               0              0                   1                  0   \n",
       "1               1              0                   0                  0   \n",
       "2               0              0                   1                  0   \n",
       "3               0              0                   1                  0   \n",
       "4               0              0                   0                  1   \n",
       "\n",
       "   Destination_Hyderabad  Destination_Kolkata  Destination_New Delhi  \n",
       "0                      0                    0                      0  \n",
       "1                      0                    0                      0  \n",
       "2                      0                    0                      0  \n",
       "3                      0                    0                      0  \n",
       "4                      0                    0                      0  \n",
       "\n",
       "[5 rows x 28 columns]"
      ]
     },
     "execution_count": 17,
     "metadata": {},
     "output_type": "execute_result"
    }
   ],
   "source": [
    "df.head()"
   ]
  },
  {
   "cell_type": "code",
   "execution_count": 18,
   "metadata": {},
   "outputs": [],
   "source": [
    "X_test=df.iloc[:,:].values"
   ]
  },
  {
   "cell_type": "code",
   "execution_count": 19,
   "metadata": {},
   "outputs": [
    {
     "data": {
      "text/plain": [
       "array([[ 1,  6,  6, ...,  0,  0,  0],\n",
       "       [ 1,  5, 12, ...,  0,  0,  0],\n",
       "       [ 1,  5, 21, ...,  0,  0,  0],\n",
       "       ...,\n",
       "       [ 1,  3,  6, ...,  0,  0,  0],\n",
       "       [ 1,  3,  6, ...,  0,  0,  0],\n",
       "       [ 1,  6, 15, ...,  0,  0,  0]], dtype=int64)"
      ]
     },
     "execution_count": 19,
     "metadata": {},
     "output_type": "execute_result"
    }
   ],
   "source": [
    "X_test"
   ]
  },
  {
   "cell_type": "code",
   "execution_count": 20,
   "metadata": {},
   "outputs": [
    {
     "data": {
      "text/plain": [
       "(2671, 28)"
      ]
     },
     "execution_count": 20,
     "metadata": {},
     "output_type": "execute_result"
    }
   ],
   "source": [
    "X_test.shape"
   ]
  },
  {
   "cell_type": "markdown",
   "metadata": {},
   "source": [
    "Let us normalize our testing data."
   ]
  },
  {
   "cell_type": "code",
   "execution_count": 21,
   "metadata": {},
   "outputs": [],
   "source": [
    "X_scaled_test = scaler.fit_transform(X_test)"
   ]
  },
  {
   "cell_type": "code",
   "execution_count": 22,
   "metadata": {},
   "outputs": [
    {
     "data": {
      "text/plain": [
       "array([[ 0.24785314,  1.09474457, -0.83733254, ..., -0.27358563,\n",
       "        -0.16997235, -0.31276448],\n",
       "       [ 0.24785314,  0.2405048 , -0.11087675, ..., -0.27358563,\n",
       "        -0.16997235, -0.31276448],\n",
       "       [ 0.24785314,  0.2405048 ,  0.97880692, ..., -0.27358563,\n",
       "        -0.16997235, -0.31276448],\n",
       "       ...,\n",
       "       [ 0.24785314, -1.46797475, -0.83733254, ..., -0.27358563,\n",
       "        -0.16997235, -0.31276448],\n",
       "       [ 0.24785314, -1.46797475, -0.83733254, ..., -0.27358563,\n",
       "        -0.16997235, -0.31276448],\n",
       "       [ 0.24785314,  1.09474457,  0.25235114, ..., -0.27358563,\n",
       "        -0.16997235, -0.31276448]])"
      ]
     },
     "execution_count": 22,
     "metadata": {},
     "output_type": "execute_result"
    }
   ],
   "source": [
    "X_scaled_test"
   ]
  },
  {
   "cell_type": "markdown",
   "metadata": {},
   "source": [
    "Let us print predicted values."
   ]
  },
  {
   "cell_type": "code",
   "execution_count": 23,
   "metadata": {},
   "outputs": [
    {
     "data": {
      "text/plain": [
       "array([[ 0.5769033 ],\n",
       "       [-1.0783337 ],\n",
       "       [ 1.2391145 ],\n",
       "       ...,\n",
       "       [ 1.0120201 ],\n",
       "       [ 0.6936318 ],\n",
       "       [-0.16420469]], dtype=float32)"
      ]
     },
     "execution_count": 23,
     "metadata": {},
     "output_type": "execute_result"
    }
   ],
   "source": [
    "pred=model.predict(X_scaled_test)\n",
    "pred"
   ]
  },
  {
   "cell_type": "markdown",
   "metadata": {},
   "source": [
    "Let us print our loss."
   ]
  },
  {
   "cell_type": "code",
   "execution_count": 24,
   "metadata": {},
   "outputs": [
    {
     "name": "stdout",
     "output_type": "stream",
     "text": [
      "Loss: 0.0\n"
     ]
    }
   ],
   "source": [
    "score = model.evaluate(X_scaled_test,pred,verbose=0)\n",
    "print('Loss:',score)"
   ]
  },
  {
   "cell_type": "markdown",
   "metadata": {},
   "source": [
    "Our loss is 0.\n",
    "It's highly accurate."
   ]
  },
  {
   "cell_type": "code",
   "execution_count": 25,
   "metadata": {},
   "outputs": [
    {
     "data": {
      "text/plain": [
       "(2671, 1)"
      ]
     },
     "execution_count": 25,
     "metadata": {},
     "output_type": "execute_result"
    }
   ],
   "source": [
    "pred.shape"
   ]
  },
  {
   "cell_type": "code",
   "execution_count": null,
   "metadata": {},
   "outputs": [],
   "source": []
  }
 ],
 "metadata": {
  "kernelspec": {
   "display_name": "Python 3",
   "language": "python",
   "name": "python3"
  },
  "language_info": {
   "codemirror_mode": {
    "name": "ipython",
    "version": 3
   },
   "file_extension": ".py",
   "mimetype": "text/x-python",
   "name": "python",
   "nbconvert_exporter": "python",
   "pygments_lexer": "ipython3",
   "version": "3.7.4"
  }
 },
 "nbformat": 4,
 "nbformat_minor": 2
}
